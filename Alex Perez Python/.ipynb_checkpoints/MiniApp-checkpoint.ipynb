{
 "cells": [
  {
   "cell_type": "markdown",
   "id": "85465cb1-742e-480a-8056-2437b70959fa",
   "metadata": {},
   "source": [
    "APLICACIONES\n",
    "=============\n",
    "-> Palindromo\n",
    "-> Primalidad\n",
    "-> Generador de contraseñas\n",
    "-> Conversor de monedas\n",
    "-> Juego adivina"
   ]
  },
  {
   "cell_type": "markdown",
   "id": "c6d2b56e-b079-45b5-a1fe-d870728b6779",
   "metadata": {},
   "source": [
    "#PALINDROMO\n",
    ">>Practica 01: Palíndromo\n",
    "Crear un sistema que detecte si una palabra es palíndroma o no\n",
    "\n",
    ">>Para solucionar este problema el usuario tiene que ingresar por pantalla una palabra y el sistema verificas si es palíndromo o no.\n",
    "\n",
    ">>Una palabra palíndroma se lee de igual formo como de la derecha y de la izquierda."
   ]
  },
  {
   "cell_type": "code",
   "execution_count": 14,
   "id": "aaf2abd6-70e7-4df3-88b2-a6928f9cbc06",
   "metadata": {},
   "outputs": [
    {
     "name": "stdin",
     "output_type": "stream",
     "text": [
      "Ingrese una palabra:  luz azul\n"
     ]
    },
    {
     "name": "stdout",
     "output_type": "stream",
     "text": [
      "Es palindromo\n"
     ]
    }
   ],
   "source": [
    "def palindromo(palabra):\n",
    "    palabra = palabra.replace(' ', '')\n",
    "    palabra = palabra.lower()\n",
    "    \n",
    "    palabra_invertida = palabra[::-1]\n",
    "    \n",
    "    if palabra == palabra_invertida:\n",
    "        return True\n",
    "    else:\n",
    "        return False\n",
    "\n",
    "#funcion principal para la app\n",
    "def main():\n",
    "    palabra = input('Ingrese una palabra: ')\n",
    "    es_palindromo = palindromo(palabra)\n",
    "    if es_palindromo:\n",
    "        print('Es palindromo')\n",
    "    else:\n",
    "        print('No es palindromo')\n",
    "\n",
    "#entry point/ punto de entrada de la app\n",
    "#inicio de la ejecucion de la app\n",
    "if __name__ == '__main__':\n",
    "    main()\n",
    "#main()"
   ]
  },
  {
   "cell_type": "markdown",
   "id": "989d2d69-bc10-4b3e-affd-9483f07fc2ed",
   "metadata": {},
   "source": [
    "#PRIMALIDAD\n",
    "Practica 02: Primalidad\n",
    ">>Crear un sistema que detecte si un numero es primo o no\n",
    "\n",
    ">>Para solucionar este problema se requiere que el usuario ingres un numero por teclado y el sistema detecte si es primo o no.\n",
    "\n",
    ">>Un numero primo es aquel que se puede dividir solo dos veces por 1 y por sí misma."
   ]
  },
  {
   "cell_type": "code",
   "execution_count": 17,
   "id": "3fba6aa3-5cec-41de-a581-20a3649ef5d4",
   "metadata": {},
   "outputs": [
    {
     "name": "stdin",
     "output_type": "stream",
     "text": [
      "ingrese un numero:  6\n"
     ]
    },
    {
     "name": "stdout",
     "output_type": "stream",
     "text": [
      "No es primo\n"
     ]
    }
   ],
   "source": [
    "#primalidad\n",
    "def es_primo(numero):\n",
    "    contador = 0\n",
    "    \n",
    "    for i in range(1, numero+1):\n",
    "        if i == 1 or i== numero:\n",
    "            continue\n",
    "        if numero % i == 0:\n",
    "            contador += 1\n",
    "    if contador == 0:\n",
    "        return True\n",
    "    else: \n",
    "        return False\n",
    "\n",
    "def main():\n",
    "    numero = int(input('ingrese un numero: '))\n",
    "    \n",
    "    if es_primo(numero):\n",
    "        print('Es primo')\n",
    "    else:\n",
    "        print('No es primo')\n",
    "\n",
    "if __name__ == '__main__':\n",
    "    main()"
   ]
  },
  {
   "cell_type": "markdown",
   "id": "4c58439a-e249-404c-a4dd-816bcd8febad",
   "metadata": {},
   "source": [
    "#GENERADOR DE CONTRASEÑA\n",
    "Practica 03: Generador de contraseñas\n",
    ">>Crear un sistema que genere una contraseña aleatoria\n",
    "\n",
    ">>Para solucionar este problema se requiere listas, listas mayúsculas, lista de minúsculas, lista de números y lista de símbolos y luego armar una contraseña aleatoria sacando caracteres de estas listas."
   ]
  },
  {
   "cell_type": "code",
   "execution_count": 23,
   "id": "03bf6677-1b2b-49a3-968f-5e9b3237b3c0",
   "metadata": {},
   "outputs": [
    {
     "name": "stdout",
     "output_type": "stream",
     "text": [
      "Su nueva contraseña es: F7a8bG4d22dgABe\n"
     ]
    }
   ],
   "source": [
    "import random\n",
    "\n",
    "def generar_contrasena():\n",
    "    mayusculas = ['A', 'B', 'C', 'D', 'E', 'F', 'G']\n",
    "    minusculas = ['a', 'b', 'c', 'd', 'e', 'f', 'g']\n",
    "    simbolos = ['#', '$', '%', '&']\n",
    "    numeros =['1', '2', '3', '4', '5', '6', '7', '8', '9', '0']\n",
    "    caracteres = mayusculas + minusculas + simbolos + numeros\n",
    "    contrasena = []\n",
    "    for i in range(0, 15):\n",
    "        caracter_random = random.choice(caracteres)\n",
    "        contrasena.append(caracter_random)\n",
    "    \n",
    "    contrasena = \"\".join(contrasena) #convierte la contraseña en un cadena de caracteres\n",
    "    return contrasena\n",
    "    \n",
    "\n",
    "def main():\n",
    "    contrasena = generar_contrasena()\n",
    "    print('Su nueva contraseña es:', contrasena)\n",
    "\n",
    "if __name__ == '__main__':\n",
    "    main()"
   ]
  },
  {
   "cell_type": "markdown",
   "id": "9ebaa549-edf9-4e57-bc91-b12517524255",
   "metadata": {},
   "source": [
    "#CONVERSOR DE MONEDA\n",
    "Practica 04: Conversor de Monedad\n",
    ">>Crear un sistema que convierta de moneda nacional a dólares por ejemplo de soles peruanos a dólares, pesos mexicanos a dólares, pesos colombianos a dólares.\n",
    "\n",
    ">>Para solucionar este problema se requiere que el usuario ingrese la cantidad de monedas nacionales y luego realizar la conversión.\n",
    "\n",
    ">>Para este sistema debe hacer un menú de navegación para seleccionar a que tipo de moneda se ara la conversión y también para cerrar el programa, el sistema no se debe cerrarse si no lo deseas."
   ]
  },
  {
   "cell_type": "code",
   "execution_count": 27,
   "id": "cd43802a-c943-43e3-8c80-5df83e1197cf",
   "metadata": {},
   "outputs": [
    {
     "name": "stdin",
     "output_type": "stream",
     "text": [
      "\n",
      "        1) Soles Peruanos a Dolares\n",
      "        2) Pesos Mexicanos a Dolares\n",
      "        3) Pesos Colombianos a Dolares\n",
      "        4) Salir\n",
      "        Ingrese una opcion: \n",
      "         1\n",
      "Ingrese cantidad de soles peruanos:  200\n"
     ]
    },
    {
     "name": "stdout",
     "output_type": "stream",
     "text": [
      "tienes $55.402\n"
     ]
    },
    {
     "name": "stdin",
     "output_type": "stream",
     "text": [
      "\n",
      "        1) Soles Peruanos a Dolares\n",
      "        2) Pesos Mexicanos a Dolares\n",
      "        3) Pesos Colombianos a Dolares\n",
      "        4) Salir\n",
      "        Ingrese una opcion: \n",
      "         8\n"
     ]
    },
    {
     "name": "stdout",
     "output_type": "stream",
     "text": [
      "Opcion incorrecta !!!!\n",
      "Vuelva a ingresar la opcion correcta\n"
     ]
    },
    {
     "name": "stdin",
     "output_type": "stream",
     "text": [
      "\n",
      "        1) Soles Peruanos a Dolares\n",
      "        2) Pesos Mexicanos a Dolares\n",
      "        3) Pesos Colombianos a Dolares\n",
      "        4) Salir\n",
      "        Ingrese una opcion: \n",
      "         3\n",
      "Ingrese cantidad de pesos colombianos:  566\n"
     ]
    },
    {
     "name": "stdout",
     "output_type": "stream",
     "text": [
      "tienes $0.163\n"
     ]
    },
    {
     "name": "stdin",
     "output_type": "stream",
     "text": [
      "\n",
      "        1) Soles Peruanos a Dolares\n",
      "        2) Pesos Mexicanos a Dolares\n",
      "        3) Pesos Colombianos a Dolares\n",
      "        4) Salir\n",
      "        Ingrese una opcion: \n",
      "         4\n"
     ]
    },
    {
     "name": "stdout",
     "output_type": "stream",
     "text": [
      "Cerradon conversor de moneda\n"
     ]
    }
   ],
   "source": [
    "def convertir(valor_dolar, pais):\n",
    "    cantidad_moneda = float(input(f'Ingrese cantidad de {pais}: '))\n",
    "   \n",
    "    dolares = cantidad_moneda / valor_dolar\n",
    "    dolares = round(dolares, 3)\n",
    "    print(f'tienes ${dolares}')\n",
    "\n",
    "def main():\n",
    "    while True:\n",
    "        menu = \"\"\"\n",
    "        1) Soles Peruanos a Dolares\n",
    "        2) Pesos Mexicanos a Dolares\n",
    "        3) Pesos Colombianos a Dolares\n",
    "        4) Salir\n",
    "        Ingrese una opcion: \n",
    "        \"\"\"\n",
    "        opcion = input(menu)\n",
    "        if opcion == '1':\n",
    "            convertir(3.61, 'soles peruanos')\n",
    "        elif opcion == '2':\n",
    "            convertir(20, 'pesos mexicanos')\n",
    "        elif opcion == '3':\n",
    "            convertir(3471.27, 'pesos colombianos')\n",
    "        elif opcion == '4' :\n",
    "            print('Cerradon conversor de moneda')\n",
    "            break\n",
    "        else:\n",
    "            print('Opcion incorrecta !!!!')\n",
    "            print('Vuelva a ingresar la opcion correcta')\n",
    "\n",
    "if __name__ == '__main__':\n",
    "    main()"
   ]
  },
  {
   "cell_type": "markdown",
   "id": "18a2dff3-b6f8-4f0e-8eba-907b5b6d582f",
   "metadata": {},
   "source": [
    "#JUEGO ADIVINA\n",
    "Practica 05: Juego – Adivina el numero\n",
    ">>Crear un juego donde el sistema genere un numero aleatorio y el jugador intente adivinar el numero aleatorio.\n",
    "\n",
    ">>Para crear este juego ten encueta los siguientes datos\n",
    "\n",
    "          Difícil 5 intentos o vidas\n",
    "\n",
    "          Intermedio 7 intentos o vidas\n",
    "\n",
    "          Fácil 10 intentos o vidas\n",
    "\n",
    ">>De acuerdo como va intentado el juego le debe dar una pista si el número es más grande o más pequeño.\n",
    "\n",
    ">>También tiene que indicarle las vidas que le quedan."
   ]
  },
  {
   "cell_type": "code",
   "execution_count": null,
   "id": "8a2a0901-3780-4bcc-80a2-01cb91a19802",
   "metadata": {},
   "outputs": [],
   "source": [
    "##### import random\n",
    "\n",
    "def jugar(vidas):\n",
    "    numero_random = random.randint(1, 100)\n",
    "    numero_elegido = None\n",
    "    while (numero_random != numero_elegido):\n",
    "        numero_elegido = int(input('Ingrese el numero entre 1 y 100'))\n",
    "        \n",
    "        if numero_random < numero_elegido:\n",
    "            print('El numero es mas pequeño')\n",
    "            vidas -= 1\n",
    "        elif numero_random > numero_elegido:\n",
    "            print('El numero es mas grande')\n",
    "            vidas -= 1\n",
    "        \n",
    "        if vidas == 0:\n",
    "            print('GAME OVER')\n",
    "            break\n",
    "        print(f'Le quedan {vidas} vidas')\n",
    "    if numero_elegido == numero_random:\n",
    "        print('FELICIDADES GANO')\n",
    "\n",
    "def main():\n",
    "    while True:\n",
    "        menu = \"\"\"\n",
    "        ADIVINE EL NUMERO ALEATORIO\n",
    "        1 - Nivel Facil\n",
    "        2 - Nivel Intermedio\n",
    "        3 - Nivel Dificil\n",
    "        4 - Salir\n",
    "        Ingrese una opcion: \n",
    "        \"\"\"\n",
    "        opcion = input(menu)\n",
    "        if opcion == '1':\n",
    "            jugar(10)\n",
    "        elif opcion == '2':\n",
    "            jugar(5)\n",
    "        elif opcion == '3':\n",
    "            jugar(3)\n",
    "        elif opcion == '4' :\n",
    "            print('CERRANDO JUEGO')\n",
    "            break\n",
    "        else:\n",
    "            print('Opcion incorrecta !!!!')\n",
    "            print('Vuelva a ingresar la opcion correcta')\n",
    "\n",
    "if __name__ == '__main__':\n",
    "    main()"
   ]
  },
  {
   "cell_type": "code",
   "execution_count": null,
   "id": "0ea04e3c-9510-48c0-abca-4fa9ed9b4085",
   "metadata": {},
   "outputs": [],
   "source": []
  },
  {
   "cell_type": "code",
   "execution_count": null,
   "id": "0f885938-c513-471e-9f8a-7bab0d983719",
   "metadata": {},
   "outputs": [],
   "source": []
  }
 ],
 "metadata": {
  "kernelspec": {
   "display_name": "Python 3 (ipykernel)",
   "language": "python",
   "name": "python3"
  },
  "language_info": {
   "codemirror_mode": {
    "name": "ipython",
    "version": 3
   },
   "file_extension": ".py",
   "mimetype": "text/x-python",
   "name": "python",
   "nbconvert_exporter": "python",
   "pygments_lexer": "ipython3",
   "version": "3.9.7"
  }
 },
 "nbformat": 4,
 "nbformat_minor": 5
}
