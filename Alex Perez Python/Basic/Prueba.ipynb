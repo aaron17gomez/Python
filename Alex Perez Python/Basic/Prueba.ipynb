{
 "cells": [
  {
   "cell_type": "markdown",
   "id": "006e80f1-9bd6-4407-9aae-9747865b65e3",
   "metadata": {},
   "source": [
    "Aplicación 01: Mostrar datos por pantalla\n",
    "Enunciado: Muestra los datos personales por pantalla\n",
    "\n",
    "Análisis: Para solucionar este problema re requiere variables definidos con sus respectivos dados y luego mostrar eses datos de diferentes formas."
   ]
  },
  {
   "cell_type": "markdown",
   "id": "c5fb25cd-1364-4c52-a733-4898cfc560e5",
   "metadata": {},
   "source": [
    "Operaciones con cadena\n",
    "->idexar a un caracter de una cadena de caracter"
   ]
  },
  {
   "cell_type": "code",
   "execution_count": null,
   "id": "0cc2ae5a-3068-40ef-a3f1-78bfa6c3ff36",
   "metadata": {},
   "outputs": [],
   "source": [
    "#indexando\n",
    "word = \"Bienvenido\"\n",
    "print(word[0])\n",
    "print(word[5])\n",
    "print(\"la palabra Bienvenidos tiene:\",len(word),\"letras.\")\n",
    "\n",
    "#no se puede cambiar una cadena de texto\n",
    "#sumamos cadenas y comenzamos desde un punto para poder sumarlas pero no cambiiarlas\n",
    "word = 'C' + word[1:]\n",
    "print(word)\n"
   ]
  },
  {
   "cell_type": "code",
   "execution_count": null,
   "id": "25fd636f-e71c-4768-bee5-2736d7db441e",
   "metadata": {},
   "outputs": [],
   "source": []
  },
  {
   "cell_type": "code",
   "execution_count": null,
   "id": "0061d730-973c-452d-8097-e88d37ddedd6",
   "metadata": {},
   "outputs": [],
   "source": [
    "#creando una lista\n",
    "lista = [1,2,3,4,5]\n",
    "print(lista)\n",
    "print(lista[0])\n",
    "print(lista[-1])\n",
    "datos = ['Alex', 25, 'Peru']\n",
    "print(datos[0])\n",
    "print(datos[-1])\n",
    "print(datos[:])\n",
    "print(\"Mi nombre es:\",datos[0],'tengo',datos[1],'y soy de', datos[-1])\n",
    "\n",
    "#las listas son mutables, se pueden cambiar sus valores\n",
    "datos[0] = \"Jorge\"\n",
    "datos[1] = 26\n",
    "datos[2] = \"Honduras\"\n",
    "print(datos[:])\n",
    "print(\"Mi nombre es:\",datos[0],'tengo',datos[1],'y soy de', datos[-1])\n",
    "print(len(datos))\n",
    "\n",
    "#concatenando listas y datos creando asi obtener\n",
    "obtener = lista + datos\n",
    "\n",
    "#creando una lista llamada objetos donde se concatena obtener con otros ejementos nuevos\n",
    "objetos = obtener + ['zapato', 'cama', 'libro', 'cuadernos']\n",
    "print(obtener)\n",
    "print(objetos)\n",
    "\n",
    "#agregando a la lista objetos un nuevo elemento con append\n",
    "objetos.append('lulu')\n",
    "print(objetos)\n"
   ]
  },
  {
   "cell_type": "code",
   "execution_count": null,
   "id": "d0dc5c10-d885-4d9d-98dc-b15050280441",
   "metadata": {},
   "outputs": [],
   "source": [
    "#anidando dos listas\n",
    "p1 = [1,2,3,4,5,6,7,8,9]\n",
    "p2 = [0]\n",
    "p3 = [-1,-2,-3,-4,-5,-6,-7,-8,-9,]\n",
    "union = [p3,p2,p1]\n",
    "print(p3, p2, p1)\n",
    "print(union)\n",
    "print(union[2][6])"
   ]
  },
  {
   "cell_type": "markdown",
   "id": "7f4d9bca-4af1-4176-a6ae-e7d6f026dc5b",
   "metadata": {},
   "source": [
    "Aplicación 02: Suma de dos números enteros\n",
    "Enunciado: dado dos números enteros, hallar la suma.\n",
    "\n",
    "Análisis: para la solución de este problema, se requiere \n",
    "que el usuario ingrese dos números enteros y el sistema \n",
    "realice el cálculo respectivo para hallar la suma, para esto\n",
    "usara la siguiente expresión."
   ]
  },
  {
   "cell_type": "code",
   "execution_count": null,
   "id": "4007944d-0414-4e3a-a642-b8bceb14be7d",
   "metadata": {},
   "outputs": [],
   "source": [
    "#serie de fibonacci:\n",
    "a = 0 \n",
    "b = 1\n",
    "while a < 10:\n",
    "    print(a)\n",
    "    a = b\n",
    "    b = a+b"
   ]
  },
  {
   "cell_type": "code",
   "execution_count": null,
   "id": "092bda33-8ffc-46e9-b7a9-0925336aa291",
   "metadata": {},
   "outputs": [],
   "source": [
    "#formateo de la informacion en print\n",
    "nombre, edad = 'Jorge', 26\n",
    "print(f'Nombre: {nombre} \\nEdad: {edad}')\n",
    "\n",
    "\"\"\"\n",
    "Este es un comentario de multiples lineas \n",
    "esto sirve para documentar dejando comentarios\n",
    "\"\"\""
   ]
  },
  {
   "cell_type": "code",
   "execution_count": null,
   "id": "813da663-50b2-46ea-a612-9097355d7dac",
   "metadata": {},
   "outputs": [],
   "source": [
    "print('Suma de dos numeros enteros')\n",
    "n1 = int(input('Ingrese el primer numero: '))\n",
    "n2 = int(input('Ingrese el segundo numero: '))\n",
    "suma = n1 + n2\n",
    "print(f'La suma es: {suma}')"
   ]
  },
  {
   "cell_type": "code",
   "execution_count": null,
   "id": "7d4f704a-b5c8-42b8-a9db-6964784ebf8c",
   "metadata": {},
   "outputs": [],
   "source": [
    "#conversion de datos\n",
    "#datos normales\n",
    "a = '40'\n",
    "b = '2.7'\n",
    "c = 20\n",
    "print(type(a))\n",
    "print(type(b))\n",
    "print(type(c))\n",
    "\n",
    "#conversion\n",
    "a = int(a)\n",
    "b = float(b)\n",
    "c = str(c)\n",
    "print(type(a))\n",
    "print(type(b))\n",
    "print(type(c))\n",
    "\n"
   ]
  },
  {
   "cell_type": "markdown",
   "id": "41d74f2f-2b82-4353-bb11-ab489e8b0f1a",
   "metadata": {},
   "source": [
    "Practica 01: Calcular cociente y el Residuo de dos números enteros\n",
    "Enunciado: halar el cociente y el residuo (resto) de dos números enteros.\n",
    "\n",
    "Análisis: para la solución de este problema, se requiere que el \n",
    "usuario ingrese dos números enteros y el sistema realice el \n",
    "cálculo respectivo para hallar el cociente y residuo, para \n",
    "esto use la siguiente expresión."
   ]
  },
  {
   "cell_type": "code",
   "execution_count": 42,
   "id": "69c21643-5d33-47db-8f7d-633ae2f5bc90",
   "metadata": {},
   "outputs": [
    {
     "name": "stdin",
     "output_type": "stream",
     "text": [
      "Ingrese el primer numero:  18\n",
      "Ingrese el segundo numero:  2\n"
     ]
    },
    {
     "name": "stdout",
     "output_type": "stream",
     "text": [
      "El cociente es: 9 \n",
      "El reciduo es: 0\n"
     ]
    }
   ],
   "source": [
    "n1 = int(input('Ingrese el primer numero: '))\n",
    "n2 = int(input('Ingrese el segundo numero: '))\n",
    "cociente = n1//n2\n",
    "residuo = n1%n2\n",
    "print(f'El cociente es: {cociente} \\nEl reciduo es: {residuo}')\n"
   ]
  },
  {
   "cell_type": "markdown",
   "id": "612ef0ad-8dd0-4ee7-a01d-d20413ac9468",
   "metadata": {},
   "source": [
    "Practica 02: Calcular el Precio de Venta\n",
    "Enunciado: dado el valor de venta de productos, hallar el IGV (18%) \n",
    "y el precio de venta.\n",
    "\n",
    "Análisis: para la solución de este problema, se requiere que el \n",
    "usuario ingrese el valor de venta del producto y el sistema \n",
    "realice el cálculo respectivo para hallar el IGV y el precio de \n",
    "venta, para esto use la siguiente expresión."
   ]
  },
  {
   "cell_type": "code",
   "execution_count": 48,
   "id": "70f2f144-341f-4c3b-96bd-6dfa14c16940",
   "metadata": {},
   "outputs": [
    {
     "name": "stdin",
     "output_type": "stream",
     "text": [
      "Ingrese el valor de la venta del producto:  300\n"
     ]
    },
    {
     "name": "stdout",
     "output_type": "stream",
     "text": [
      "==========================\n",
      "---- FACTURA DE VENTA ----\n",
      "==========================\n",
      "Valor de ventas:  300.0\n",
      "IGV:  54.0\n",
      "Precio de venta:  354.0\n",
      "==========================\n"
     ]
    }
   ],
   "source": [
    "vv = float(input('Ingrese el valor de la venta del producto: '))\n",
    "igv = vv*0.18\n",
    "pv = vv + igv\n",
    "print('='*26)\n",
    "print('---- FACTURA DE VENTA ----')\n",
    "print('='*26)\n",
    "print('Valor de ventas: ',vv)\n",
    "print('IGV: ', igv)\n",
    "print('Precio de venta: ', pv)\n",
    "print('='*26)"
   ]
  },
  {
   "cell_type": "markdown",
   "id": "aaca8cd8-083a-4dfc-8b27-e58abcf3c03a",
   "metadata": {},
   "source": [
    "Crear un programa para encontrar el Área de un Círculo."
   ]
  },
  {
   "cell_type": "code",
   "execution_count": 53,
   "id": "3e4335d4-dc6e-4d09-895a-ae06dbaf5e4b",
   "metadata": {},
   "outputs": [
    {
     "name": "stdin",
     "output_type": "stream",
     "text": [
      "Ingrese el radio del circulo:  5\n"
     ]
    },
    {
     "name": "stdout",
     "output_type": "stream",
     "text": [
      "El area del circulo es:  31.419\n"
     ]
    }
   ],
   "source": [
    "radio = int(input('Ingrese el radio del circulo: '))\n",
    "area = 3.1419 * (radio * 2)\n",
    "print('El area del circulo es: ', area)"
   ]
  },
  {
   "cell_type": "markdown",
   "id": "51824402-c9f0-4084-beb5-201bd14a5416",
   "metadata": {},
   "source": [
    "Enunciado: Crear un programa que permita convertir una cantidad de\n",
    "segundos en horas, minutos y segundos.\n",
    "\n",
    "Análisis: Para la solución de este problema, se requiere que el \n",
    "usuario ingrese un tiempo expresado en segundos y el sistema \n",
    "procesa y obtiene las horas, minutos y segundos restantes."
   ]
  },
  {
   "cell_type": "code",
   "execution_count": 83,
   "id": "d36e7adc-55cd-4183-a1af-2a1e15cf566c",
   "metadata": {},
   "outputs": [
    {
     "name": "stdout",
     "output_type": "stream",
     "text": [
      "hora: 01:51:6677\n",
      "segundos: 3077\n",
      "minutos: 51\n"
     ]
    }
   ],
   "source": [
    "s = 6677\n",
    "h = int(s / 60 / 60)\n",
    "print(f\"hora: {h:02}:{m:02}:{s:02}\")\n",
    "s -= horas*60*60\n",
    "print('segundos:',s)\n",
    "m = int(s/60)\n",
    "print('minutos:', m)\n",
    "\n"
   ]
  },
  {
   "cell_type": "code",
   "execution_count": 88,
   "id": "f53e42bb-ffb3-4446-b5e4-07cfe2c973fc",
   "metadata": {},
   "outputs": [
    {
     "name": "stdout",
     "output_type": "stream",
     "text": [
      "['Dina', 'Dina', 'Lucas', 'Jhon', 'Erica']\n"
     ]
    }
   ],
   "source": [
    "name = ['Juan', 'Dina', 'Lucas', 'Jhon', 'Erica']\n",
    "name [0] = name[1]\n",
    "print(name)\n"
   ]
  },
  {
   "cell_type": "code",
   "execution_count": 91,
   "id": "86410933-fde6-469f-bc5a-cfde7bfd00eb",
   "metadata": {},
   "outputs": [
    {
     "name": "stdout",
     "output_type": "stream",
     "text": [
      "False\n",
      "True\n",
      "True\n",
      "True\n",
      "False\n",
      "True\n",
      "False\n",
      "True\n"
     ]
    }
   ],
   "source": [
    "#operadores relacionales\n",
    "#se comparan dos valoresliterales\n",
    "a = 10\n",
    "b = 5\n",
    "print(a==b)\n",
    "print(a==a)\n",
    "print(b==b)\n",
    "print(a!=b)\n",
    "print(a<b)\n",
    "print(a>b)\n",
    "print(a<=b)\n",
    "print(a>=b)"
   ]
  },
  {
   "cell_type": "code",
   "execution_count": 14,
   "id": "af6a4d2f-2646-4f6d-8077-4d3f8ffa5718",
   "metadata": {},
   "outputs": [
    {
     "name": "stdout",
     "output_type": "stream",
     "text": [
      "[1, 2, 3, 4, 5]\n",
      "1\n",
      "5\n",
      "Alex\n",
      "Peru\n",
      "['Alex', 25, 'Peru']\n",
      "Mi nombre es: Alex tengo 25 y soy de Peru\n"
     ]
    }
   ],
   "source": [
    "#creando una lista\n",
    "lista = [1,2,3,4,5]\n",
    "print(lista)\n",
    "print(lista[0])\n",
    "print(lista[-1])\n",
    "datos = ['Alex', 25, 'Peru']\n",
    "print(datos[0])\n",
    "print(datos[-1])\n",
    "print(datos[:])\n",
    "print(\"Mi nombre es:\",datos[0],'tengo',datos[1],'y soy de', datos[-1])\n",
    "\n",
    "#las listas son mutables, se pueden cambiar sus valores\n",
    "datos[0] = \"Jorge\"\n"
   ]
  },
  {
   "cell_type": "code",
   "execution_count": 96,
   "id": "b9fb2a65-0943-4198-a66e-09574c391d10",
   "metadata": {},
   "outputs": [
    {
     "name": "stdout",
     "output_type": "stream",
     "text": [
      "----- NOT -----\n",
      "False\n",
      "True\n",
      "=========================\n",
      "--- Operador AND ---\n",
      "True\n",
      "False\n",
      "False\n",
      "=========================\n",
      "---- Operador OR ----\n",
      "True\n",
      "True\n",
      "False\n",
      "=========================\n",
      "False\n",
      "True\n",
      "False\n",
      "False\n",
      "False\n",
      "True\n",
      "False\n",
      "=========================\n",
      "True\n",
      "True\n",
      "False\n",
      "True\n",
      "True\n",
      "False\n",
      "True\n",
      "=========================\n",
      "True\n",
      "False\n",
      "False\n",
      "True\n",
      "True\n",
      "False\n"
     ]
    }
   ],
   "source": [
    "#operadores logicos\n",
    "#and or not\n",
    "\n",
    "#operador not (negacion)\n",
    "print('----- NOT -----')\n",
    "print(not True)\n",
    "print(not False)\n",
    "\n",
    "#operador and (traeme el plumon y la pluma)\n",
    "print('='*25)\n",
    "print('--- Operador AND ---')\n",
    "print(True and True)\n",
    "print(True and False)\n",
    "print(False and False)\n",
    "\n",
    "#operador or (traeme el plumon o la pluma)\n",
    "print('='*25)\n",
    "print('---- Operador OR ----')\n",
    "print(True or True)\n",
    "print(True or False)\n",
    "print(False or False)\n",
    "\n",
    "#------------------------------------------------------------\n",
    "a, b = 10, 5\n",
    "\n",
    "print('='*25)\n",
    "print((a == b) and (a != b))\n",
    "print((a != b) and (a != b))\n",
    "print((a == b) and (a == b))\n",
    "print((a < b) and (a > b))\n",
    "print((a > b) and (a < b))\n",
    "print((a > b) and (a > b))\n",
    "print((a < b) and (a < b))\n",
    "\n",
    "#------------------------------------------------------------\n",
    "a, b = 11, 7\n",
    "print('='*25)\n",
    "print((a == b) or (a != b))\n",
    "print((a != b) or (a != b))\n",
    "print((a == b) or (a == b))\n",
    "print((a < b) or (a > b))\n",
    "print((a > b) or (a < b))\n",
    "print((a > b) or (a > b))\n",
    "print((a < b) or (a < b))\n",
    "\n",
    "#------------------------------------------------------------\n",
    "a, b = 13, 2\n",
    "print('='*25)\n",
    "print(not(a == b))\n",
    "print(not(a != b))\n",
    "print(not(a < b))\n",
    "print(not(a > b))\n",
    "print(not(a >= b))\n",
    "print(not(a <= b))\n",
    "\n"
   ]
  },
  {
   "cell_type": "code",
   "execution_count": 107,
   "id": "97dc9aab-240b-4884-87dd-e93778e4ebe0",
   "metadata": {},
   "outputs": [
    {
     "name": "stdout",
     "output_type": "stream",
     "text": [
      "El resultado de a * b - 2 ** b >= 20 es: False\n",
      "El resultado de (a%b) != 0 es: True\n",
      "El resultado de a * b - 2 ** b >= 20 y El resultado de not(a%b) != 0 es: False\n",
      "False\n",
      "\n"
     ]
    }
   ],
   "source": [
    "#expresion anidada\n",
    "a, b = 10, 5\n",
    "print(f'El resultado de a * b - 2 ** b >= 20 es: {a * b - 2 ** b >= 20}')\n",
    "print(f'El resultado de (a%b) != 0 es: {not(a%b) != 0}')\n",
    "print(f'El resultado de a * b - 2 ** b >= 20 y El resultado de not(a%b) != 0 es: {(a * b - 2 ** b >= 20) and not ((a%b) != 0)}')\n",
    "print((a * b - 2 ** b >= 20) and not ((a%b) != 0))\n",
    "print()"
   ]
  },
  {
   "cell_type": "code",
   "execution_count": 116,
   "id": "687adcc9-3abd-495d-8b47-fe25fb0fbad0",
   "metadata": {},
   "outputs": [
    {
     "name": "stdout",
     "output_type": "stream",
     "text": [
      "a es igual a: 10\n",
      "a sumando a (a+5) es igual a: 15\n",
      "La suma de asignacion de a es: 25\n",
      "La resta de asignacion de a es: 5\n",
      "La multiplicacion de asignacion de a es: 25\n",
      "La division de asignacion de a es: 5.0\n",
      "La potencia de asignacion de a es: 25.0\n",
      "El modulo de asignacion de a es: 1.0\n"
     ]
    }
   ],
   "source": [
    "#operador de asignacion\n",
    "#simplifican algunas operaciones aritmeticas\n",
    "a = 10\n",
    "print('a es igual a:', a)\n",
    "a = a + 5 #se puede simplificar\n",
    "print('a sumando a (a+5) es igual a:', a)\n",
    "#suma en asignacion\n",
    "a += 10\n",
    "print('La suma de asignacion de a es:', a)\n",
    "\n",
    "#resta en asignacion\n",
    "a -= 20\n",
    "print('La resta de asignacion de a es:', a)\n",
    "\n",
    "#multiplicacion en asignacion\n",
    "a *= 5\n",
    "print('La multiplicacion de asignacion de a es:', a)\n",
    "\n",
    "#division en asigncion\n",
    "a /= 5\n",
    "print('La division de asignacion de a es:', a)\n",
    "\n",
    "#potencia en asigncion\n",
    "a **= 2\n",
    "print('La potencia de asignacion de a es:', a)\n",
    "\n",
    "#reciduo o modulo en asigncion\n",
    "a %= 2\n",
    "print('El modulo de asignacion de a es:', a)\n"
   ]
  },
  {
   "cell_type": "code",
   "execution_count": null,
   "id": "a5bb57e2-6508-4359-9b04-b20c5de2172f",
   "metadata": {},
   "outputs": [],
   "source": [
    "#operacion de incremento y decremento\n",
    "c = 0\n",
    "c +=1\n",
    "c +=1\n",
    "c +=1\n",
    "c +=1\n",
    "print(c)\n",
    "c -=1\n",
    "c -=1\n",
    "c -=1\n",
    "print(c)"
   ]
  },
  {
   "cell_type": "code",
   "execution_count": 121,
   "id": "0b96a1a4-9903-4018-b3e8-f4aae975e76e",
   "metadata": {},
   "outputs": [
    {
     "name": "stdout",
     "output_type": "stream",
     "text": [
      "True\n",
      "False\n",
      "True\n"
     ]
    }
   ],
   "source": [
    "#operador de identidad is o is not si un objeto es igual o no\n",
    "text1 = 'hola'\n",
    "text2 = 'hola'\n",
    "print(text1 is text2)\n",
    "\n",
    "text3 = 'Hola'\n",
    "print(text1 is text3)\n",
    "print(text1 is not text3)#no son iguales"
   ]
  },
  {
   "cell_type": "code",
   "execution_count": 132,
   "id": "19ddad32-e754-435e-be74-73d217b45212",
   "metadata": {},
   "outputs": [
    {
     "name": "stdout",
     "output_type": "stream",
     "text": [
      "True\n",
      "False\n",
      "True\n",
      "True\n",
      "True\n",
      "False\n",
      "True\n"
     ]
    }
   ],
   "source": [
    "#operadores de pertenencias, como en la lista o cadena de caracteres\n",
    "text = 'hola mundo'\n",
    "print('h' in text)\n",
    "print('H' in text)\n",
    "print('hola' in text)\n",
    "\n",
    "#tambien se trabaja con objetos\n",
    "name = ['Alex', 'Roel', 25]\n",
    "print(25 in name)\n",
    "print('Alex' in name)\n",
    "print('Rol' in name)\n",
    "print('Ro' not in name)\n"
   ]
  },
  {
   "cell_type": "code",
   "execution_count": 137,
   "id": "8714fbb3-1aac-4ce9-bd2c-2edb167a554b",
   "metadata": {},
   "outputs": [
    {
     "name": "stdout",
     "output_type": "stream",
     "text": [
      "2\n",
      "0\n",
      "5\n",
      "True\n",
      "False\n",
      "True\n",
      "False\n",
      "True\n",
      "True\n",
      "False\n",
      "True\n",
      "False\n",
      "True\n",
      "1\n",
      "0\n",
      "1.0\n",
      "True\n",
      "True\n",
      "True\n",
      "False\n",
      "True\n",
      "True\n",
      "False\n",
      "True\n"
     ]
    }
   ],
   "source": [
    "#booleanos realizando operaciones aritmeticas true =1 false=0\n",
    "print(True + True)\n",
    "print(False * 10)\n",
    "print(True * 5)\n",
    "print(True > False)\n",
    "print(True < False)\n",
    "print(True >= False)\n",
    "print(True <= False)\n",
    "print(True != False)\n",
    "print(True == True)\n",
    "print(True == False)\n",
    "print (False != True)\n",
    "print (False == True)\n",
    "print(False == False)\n",
    "\n",
    "#se puede convertir un True a int y False tambien\n",
    "print(int(True))\n",
    "print(int(False))\n",
    "print(float(True))\n",
    "print(str(True))\n",
    "print(bool(1))\n",
    "print(bool(56))\n",
    "print(bool(0))\n",
    "print(bool(-5))\n",
    "print(bool('False'))\n",
    "print(bool(''))\n",
    "print(bool(' '))\n",
    "\n"
   ]
  },
  {
   "cell_type": "code",
   "execution_count": 142,
   "id": "81408ff9-d2bf-421c-9025-db6b12e0a897",
   "metadata": {},
   "outputs": [
    {
     "name": "stdout",
     "output_type": "stream",
     "text": [
      "False\n"
     ]
    }
   ],
   "source": [
    "print((False and True) or (True == False))"
   ]
  },
  {
   "cell_type": "markdown",
   "id": "f5aa7094-180c-48d4-91e5-3f3fe5f355dd",
   "metadata": {},
   "source": [
    "#ESTRUTURA DE CONTROL\n"
   ]
  },
  {
   "cell_type": "markdown",
   "id": "479ced0c-f90a-4db4-8b5c-f1b6048b390f",
   "metadata": {},
   "source": [
    "Aplicaciones de la sección\n",
    "Aplicación 01: Crear un sistema que detecte si número es par \n",
    "positivos o par negativo y también si es impar positivo o \n",
    "negativos y si el numero ingresado es 0 que detecte si es neutro.\n",
    "Enunciado: determinar si un número entero es par positivo, impar \n",
    "positivo, par negativo, impar negativo o neutro.\n",
    "\n",
    "Análisis: para la solución de este problema, se requiere que el \n",
    "usuario ingrese un número entero y el sistema verifique si es par\n",
    "positivo, impar positivo, par negativo, impar negativo o neutro."
   ]
  },
  {
   "cell_type": "code",
   "execution_count": 149,
   "id": "80cf8b6e-ade4-40ea-a689-a5c339128826",
   "metadata": {},
   "outputs": [
    {
     "name": "stdin",
     "output_type": "stream",
     "text": [
      "Ingrese un numero entero:  -9\n"
     ]
    },
    {
     "name": "stdout",
     "output_type": "stream",
     "text": [
      "El numero -9 es IMPAR NEGATIVO\n"
     ]
    }
   ],
   "source": [
    "#detectar si un numero es par o impar con If, elif, else\n",
    "n = int(input('Ingrese un numero entero: '))\n",
    "\n",
    "if n != 0:\n",
    "    #pass indica que no vamos hacer nada hasta despues\n",
    "    if n > 0:\n",
    "        if (n%2) == 0:\n",
    "            print(f'El numero {n} es PAR POSITIVO')\n",
    "        else:\n",
    "            print(f'El numero {n} es IMPAR POSITIVO')\n",
    "    else:\n",
    "        if (n%2) == 0:\n",
    "            print(f'El numero {n} es PAR NEGATIVO')\n",
    "        else:\n",
    "            print(f'El numero {n} es IMPAR NEGATIVO')\n",
    "else:\n",
    "    print(f'El numero {n} es NEUTRO')\n",
    "\n"
   ]
  },
  {
   "cell_type": "code",
   "execution_count": 160,
   "id": "74cc5bd9-5295-4ee3-86ac-44e85578a96e",
   "metadata": {},
   "outputs": [
    {
     "name": "stdout",
     "output_type": "stream",
     "text": [
      "cat 3\n",
      "window 6\n",
      "defenestrate 12\n",
      "12 2\n",
      "13\n",
      "2\n",
      "3\n",
      "4\n",
      "5\n"
     ]
    }
   ],
   "source": [
    "words = ['cat', 'window', 'defenestrate', '12']\n",
    "for i in words:\n",
    "    print(i, len(i))\n",
    "\n",
    "numero = [13, 2, 3, 4,5]\n",
    "for i in range(len(numero)):\n",
    "    print(numero[i])\n"
   ]
  },
  {
   "cell_type": "markdown",
   "id": "d1870cc9-0bee-42d3-ae4d-39fcd3d0bc8b",
   "metadata": {},
   "source": [
    "Aplicación 02: Crear un sistema que detecte si un carácter es vocal\n",
    "o no\n",
    "Enunciado: dado un carácter determinar si es una vocal.\n",
    "\n",
    "Análisis: para la solución de este problema, se requiere que el \n",
    "usuario ingrese un carácter y el sistema verifique si es una vocal."
   ]
  },
  {
   "cell_type": "code",
   "execution_count": 166,
   "id": "8e8e7076-fa9b-48ae-a605-d1d236fdde82",
   "metadata": {},
   "outputs": [
    {
     "name": "stdin",
     "output_type": "stream",
     "text": [
      "Ingrese un caracter 6\n"
     ]
    },
    {
     "name": "stdout",
     "output_type": "stream",
     "text": [
      "6 Es una consonante\n"
     ]
    }
   ],
   "source": [
    "v = input('Ingrese un caracter')\n",
    "\n",
    "if v == 'a' or v == 'A' or v == 'e' or v == 'E' or v == 'i' or v == 'I' or v == 'o' or v == 'O' or v == 'u' or v == 'U':\n",
    "    print(v,'Es vocal')\n",
    "else :\n",
    "    print(v, 'Es una consonante')\n"
   ]
  },
  {
   "cell_type": "code",
   "execution_count": null,
   "id": "470fc8cf-4949-437b-9270-d1157e06cf6d",
   "metadata": {},
   "outputs": [],
   "source": []
  },
  {
   "cell_type": "markdown",
   "id": "507b7bbb-dafd-4cf2-a2d1-19e597f086f5",
   "metadata": {},
   "source": [
    "Aplicación 03: Suma de n números anteriores\n",
    "Enunciado: obtener la suma de los primeros N número natural positivo.\n",
    "\n",
    "Análisis: Para la solución de este problema, se requiere que el usuario ingrese un número y el sistema realice el proceso para devolver la suma de los N primeros números."
   ]
  },
  {
   "cell_type": "code",
   "execution_count": 6,
   "id": "0741c5dc-47d2-44e6-ac9d-3eec45a7fb9f",
   "metadata": {},
   "outputs": [
    {
     "name": "stdout",
     "output_type": "stream",
     "text": [
      "Valor de c: 1\n",
      "Valor de c: 2\n",
      "Valor de c: 3\n",
      "Valor de c: 4\n",
      "Valor de c: 5\n",
      "Valor de c: 6\n",
      "Valor de c: 7\n",
      "Valor de c: 8\n",
      "Valor de c: 9\n",
      "Valor de c: 10\n"
     ]
    }
   ],
   "source": [
    "#bucle while\n",
    "c = 0\n",
    "while c < 10:\n",
    "    c += 1\n",
    "    print(f'Valor de c: {c}')\n",
    "     "
   ]
  },
  {
   "cell_type": "code",
   "execution_count": 55,
   "id": "a613b9e7-0568-439f-ad0d-ecae6e920502",
   "metadata": {},
   "outputs": [
    {
     "name": "stdin",
     "output_type": "stream",
     "text": [
      "Ingrese un numero:  5\n"
     ]
    },
    {
     "name": "stdout",
     "output_type": "stream",
     "text": [
      "1 | 0\n",
      "2 | 1\n",
      "3 | 3\n",
      "4 | 6\n",
      "5 | 10\n",
      "La suma es: 10\n"
     ]
    }
   ],
   "source": [
    "n = int(input('Ingrese un numero: '))\n",
    "suma = 0\n",
    "menores_n = 0\n",
    "\n",
    "while menores_n < n:\n",
    "    suma += menores_n\n",
    "    menores_n += 1\n",
    "    print(f'{menores_n} | {suma}')\n",
    "\n",
    "print(f'La suma es: {suma}')\n",
    "    "
   ]
  },
  {
   "cell_type": "code",
   "execution_count": 16,
   "id": "7411aae6-0737-4283-af13-5cfd10348349",
   "metadata": {},
   "outputs": [
    {
     "name": "stdout",
     "output_type": "stream",
     "text": [
      "==========\n",
      "Con for\n",
      "==========\n",
      "Alex\n",
      "Roel\n",
      "25\n",
      "1.67\n",
      "True\n",
      "==========\n",
      "Con while\n",
      "==========\n",
      "Alex\n",
      "Roel\n",
      "25\n",
      "1.67\n",
      "True\n"
     ]
    }
   ],
   "source": [
    "#bucle for se usa para iterar listas o cadenas de caracteres\n",
    "datos =['Alex', 'Roel', 25, 1.67, True]\n",
    "\n",
    "# hace un bucle de vueltra y traemos los datos, elemnto por elemento\n",
    "print('='*10)\n",
    "print('Con for')\n",
    "print('='*10)\n",
    "for d in datos:\n",
    "    print(d)\n",
    "print('='*10)\n",
    "print('Con while')\n",
    "print('='*10)\n",
    "c = 0\n",
    "while c < len(datos):\n",
    "    print(datos[c])\n",
    "    c += 1\n"
   ]
  },
  {
   "cell_type": "code",
   "execution_count": 29,
   "id": "c62e220c-9fa5-4e4d-bb96-0ec6f898c215",
   "metadata": {},
   "outputs": [
    {
     "name": "stdout",
     "output_type": "stream",
     "text": [
      "1\n",
      "2\n",
      "3\n",
      "4\n",
      "5\n",
      "6\n",
      "7\n",
      "8\n",
      "9\n"
     ]
    }
   ],
   "source": [
    "#crea una tupla\n",
    "#imprime del 1 al 10 dependiendo el rango que nos de\n",
    "for i in range(1, 10):\n",
    "    print(i)\n",
    "\n",
    "    "
   ]
  },
  {
   "cell_type": "code",
   "execution_count": 61,
   "id": "d867a6da-cdac-48cd-a0da-e6e149c6fcef",
   "metadata": {},
   "outputs": [
    {
     "name": "stdin",
     "output_type": "stream",
     "text": [
      "Ingrese un numero:  4\n"
     ]
    },
    {
     "name": "stdout",
     "output_type": "stream",
     "text": [
      "1 1\n",
      "2 3\n",
      "3 6\n",
      "El resultado es: 6\n"
     ]
    }
   ],
   "source": [
    "#sumando los numeros anteriores\n",
    "numero = int(input('Ingrese un numero: '))\n",
    "suma = 0\n",
    "for n in range(1,numero):\n",
    "    suma += n\n",
    "    print(n, suma)\n",
    "print('El resultado es:',suma)"
   ]
  },
  {
   "cell_type": "code",
   "execution_count": 69,
   "id": "de211d96-b423-4783-a336-7612f1d57972",
   "metadata": {},
   "outputs": [
    {
     "name": "stdout",
     "output_type": "stream",
     "text": [
      "1\n",
      "Despues del continue\n",
      "2\n",
      "Despues del continue\n",
      "3\n",
      "Despues del continue\n",
      "4\n",
      "Despues del continue\n",
      "5\n",
      "salta a la siguiente iteracion\n",
      "6\n",
      "Despues del continue\n",
      "7\n",
      "Despues del continue\n",
      "8\n",
      "Despues del continue\n",
      "9\n",
      "Despues del continue\n",
      "10\n",
      "Despues del continue\n",
      "Fin del While\n"
     ]
    }
   ],
   "source": [
    "#break continue\n",
    "#el else en este caso es para indicar que l bucle ha terminado\n",
    "c = 0\n",
    "while c < 10:\n",
    "    c += 1\n",
    "    print(c)\n",
    "    if c == 5:\n",
    "        #print('Termina el bucle')\n",
    "        #con break se dentra el bucle\n",
    "        #break\n",
    "        #continue detiene un momento el bucle y despues conticua\n",
    "        print('salta a la siguiente iteracion')\n",
    "        continue\n",
    "    print('Despues del continue')\n",
    "        \n",
    "else:\n",
    "    print('Fin del While')\n",
    "\n"
   ]
  },
  {
   "cell_type": "code",
   "execution_count": 103,
   "id": "6f91cd25-bce4-43b0-8355-92ca52992d1d",
   "metadata": {},
   "outputs": [
    {
     "name": "stdin",
     "output_type": "stream",
     "text": [
      "Ingrese el primer numero:  3\n",
      "Ingrese el segundo numero:  3\n",
      "Ingrese el tercer numero:  1\n"
     ]
    },
    {
     "name": "stdout",
     "output_type": "stream",
     "text": [
      "Sus muneros son: \n",
      "-numero 1: 3 \n",
      "-numero 2:3 \n",
      "-numero 3:1\n",
      "existen dos numeros iguales 1 - 3 - 3\n",
      "La suma de los tres numeros es: 7\n"
     ]
    }
   ],
   "source": [
    "n1 = int(input('Ingrese el primer numero: '))\n",
    "n2 = int(input('Ingrese el segundo numero: '))\n",
    "n3 = int(input('Ingrese el tercer numero: '))\n",
    "print(f'Sus muneros son: \\n-numero 1: {n1} \\n-numero 2:{n2} \\n-numero 3:{n3}')\n",
    "\n",
    "if (n1>n2 and n2>n3):\n",
    "    print(f'{n3} - {n2} - {n1}')\n",
    "elif (n1>n3 and n3>n2):\n",
    "    print(f'{n2} - {n3} - {n1}')\n",
    "elif (n2>n1 and n1>n3):\n",
    "    print(f'{n3} - {n1} - {n2}')\n",
    "elif (n2>n3 and n3>n1):\n",
    "    print(f'{n1} - {n3} - {n2}')\n",
    "elif (n3>n2 and n2>n1):\n",
    "    print(f'{n1} - {n2} - {n3}')\n",
    "elif (n3>n1 and n1>n2):\n",
    "    print(f'{n2} - {n1} - {n3}')\n",
    "elif (n1 == n2 and n2 > n3):\n",
    "    print(f'existen dos numeros iguales {n3} - {n2} - {n1}')\n",
    "elif (n1 == n2 and n2 < n3):\n",
    "    print(f'existen dos numeros iguales {n1} - {n2} - {n3}')\n",
    "elif (n2 == n3 and n3 > n1):\n",
    "    print(f'existen dos numeros iguales {n1} - {n3} - {n2}')\n",
    "elif (n2 == n3 and n3 < n1):\n",
    "    print(f'existen dos numeros iguales {n2} - {n3} - {n1}')\n",
    "elif (n1 == n3 and n3 > n2):\n",
    "    print(f'existen dos numeros iguales {n2} - {n3} - {n1}')\n",
    "elif (n1 == n3 and n3 < n2):\n",
    "    print(f'existen dos numeros iguales {n1} - {n3} - {n2}')\n",
    "elif (n1 == n2 and  n2 == n3):\n",
    "    print(f'Los tres numeros son iguales {n1} - {n2} - {n3}')\n",
    "print(f'La suma de los tres numeros es: {n1 + n2 + n3}')"
   ]
  },
  {
   "cell_type": "code",
   "execution_count": null,
   "id": "7bbafca4-c531-4488-8dfc-2e0bf2a3ff8a",
   "metadata": {},
   "outputs": [],
   "source": [
    "# Variables | Ingresar Datos.\n",
    "numero1 = int(input('Número 1: '))\n",
    "numero2 = int(input('Número 2: '))\n",
    "numero3 = int(input('Número 3: '))\n",
    "\n",
    "# Solución\n",
    "\n",
    "# Hallar el número mayor\n",
    "if numero1 > numero2 and numero1 > numero3:\n",
    "    mayor = numero1\n",
    "else:\n",
    "    if numero2 > numero1 and numero2 > numero3:\n",
    "        mayor = numero2\n",
    "    else:\n",
    "        mayor = numero3\n",
    "\n",
    "# Hallar el número menor \n",
    "if numero1 < numero2 and numero1 < numero3:\n",
    "    menor = numero1\n",
    "else:\n",
    "    if numero2 < numero1 and numero2 < numero3:\n",
    "        menor = numero2\n",
    "    else:\n",
    "        menor = numero3\n",
    "\n",
    "# Hallar el número intermedio \n",
    "intermedio = (numero1 + numero2 + numero3) - (mayor - menor)\n",
    "\n",
    "# Mostrar Datos\n",
    "print(f'Mayor: {mayor}')\n",
    "print(f'Intermedio: {intermedio}')\n",
    "print(f'Menor: {menor}')"
   ]
  },
  {
   "cell_type": "markdown",
   "id": "eb5516f6-b5aa-4f65-8f83-559f76409cea",
   "metadata": {},
   "source": [
    "ENUNCIADO: Dado un rango de números enteros, obtener la cantidad de números enteros que contiene.\n",
    "\n",
    "ANÁLISIS: Para la solución de este problema, se requiere que el usuario ingrese un número inicial y final, luego el sistema procesa y devuelve la cantidad de números enteros que contiene el rango.\n",
    "\n",
    "ENTRADA\n",
    "\n",
    "· Número inicial (n).\n",
    "\n",
    "· Número Final (nf).\n",
    "\n",
    "SALIDA\n",
    "\n",
    "· Cantidad (c)."
   ]
  },
  {
   "cell_type": "code",
   "execution_count": 116,
   "id": "c5c15901-16a8-4044-9dee-45dedc2899ce",
   "metadata": {},
   "outputs": [
    {
     "name": "stdin",
     "output_type": "stream",
     "text": [
      "Ingrese el numero inicial:  7\n",
      "Ingrese el numero final:  10\n"
     ]
    },
    {
     "name": "stdout",
     "output_type": "stream",
     "text": [
      "8\n",
      "9\n",
      "10\n",
      "los numeros contados del 7 al 10 son: 3\n"
     ]
    }
   ],
   "source": [
    "n = int(input('Ingrese el numero inicial: '))\n",
    "nf = int(input('Ingrese el numero final: '))\n",
    "if n>=nf and nf<=n:\n",
    "    n = int(input('Vuelva ingrese el numero inicial: '))\n",
    "    nf = int(input('Ingrese el numero final: '))\n",
    "\n",
    "for c in range(n , nf):\n",
    "    c += 1\n",
    "    print(c)\n",
    "\n",
    "print(f'los numeros contados del {n} al {nf} son: {nf-n}')\n"
   ]
  },
  {
   "cell_type": "code",
   "execution_count": 117,
   "id": "04bd73c7-b005-4379-8f1f-2886b630e952",
   "metadata": {},
   "outputs": [
    {
     "name": "stdin",
     "output_type": "stream",
     "text": [
      "Número Inicial:  7\n",
      "Número Final:  10\n"
     ]
    },
    {
     "name": "stdout",
     "output_type": "stream",
     "text": [
      "CANTIDAD: 2\n"
     ]
    }
   ],
   "source": [
    "# Variables | Ingresar Datos.\n",
    "numeroInicial = int(input('Número Inicial: '))\n",
    "numeroFinal = int(input('Número Final: '))\n",
    "i = 0\n",
    "contador = 0\n",
    "\n",
    "# Solución\n",
    "i = numeroInicial + 1\n",
    "while i < numeroFinal:\n",
    "    contador += 1\n",
    "    i += 1\n",
    "\n",
    "# Mostrar Datos\n",
    "print(f'CANTIDAD: {contador}')"
   ]
  },
  {
   "cell_type": "markdown",
   "id": "74eb43ad-11c0-4faa-a746-88e2c7721c08",
   "metadata": {},
   "source": [
    "ENUNCIADO: Dado un rango de numérico entero num. inicial y num. fina, obtener la cantidad de números positivos y negativos que existen en el rango.\n",
    "\n",
    "ANÁLISIS: Para la solución de este problema se requiere que el usuario ingrese dos número, luego el  sistema devuelve la cantidad de números positivos y negativos.\n",
    "\n",
    "ENTRADA\n",
    "\n",
    "· Número inicial (ni).\n",
    "\n",
    "· Número final (nf).\n",
    "\n",
    "SALIDA\n",
    "\n",
    "· Cantidad Positivos (cp).\n",
    "\n",
    "· Cantidad Negativos (cn).\n",
    "\n"
   ]
  },
  {
   "cell_type": "code",
   "execution_count": 122,
   "id": "17c65d92-e34a-4958-a6b2-c60d9257be8d",
   "metadata": {},
   "outputs": [
    {
     "name": "stdin",
     "output_type": "stream",
     "text": [
      "Número inicial:  -2\n",
      "Número final:  2\n"
     ]
    },
    {
     "name": "stdout",
     "output_type": "stream",
     "text": [
      "-2\n",
      "-1\n",
      "0\n",
      "1\n",
      "2\n",
      "Cantidad POSITIVOS:  3\n",
      "Cantidad NEGATIVOS:  2\n"
     ]
    }
   ],
   "source": [
    "valor1 = int(input('Número inicial: '))\n",
    "valor2 = int(input('Número final: '))\n",
    "valor2 += 1\n",
    "cantidadPositivos = 0\n",
    "cantidadNegativos = 0\n",
    "\n",
    "# Solución\n",
    "for numero in range(valor1, valor2):\n",
    "    print(numero)\n",
    "    if numero % 2 == 0 :\n",
    "        cantidadPositivos += 1  \n",
    "    else:\n",
    "        cantidadNegativos += 1\n",
    "\n",
    "\n",
    "# Mostrar Datos\n",
    "print('Cantidad POSITIVOS: ', cantidadPositivos)\n",
    "print('Cantidad NEGATIVOS: ', cantidadNegativos)"
   ]
  },
  {
   "cell_type": "code",
   "execution_count": 123,
   "id": "cdc84a6b-e1c9-4e04-9ac4-0d23e35fa39f",
   "metadata": {},
   "outputs": [
    {
     "name": "stdout",
     "output_type": "stream",
     "text": [
      "Domingo\n",
      "Martes\n",
      "Miercoles\n",
      "Jueves\n"
     ]
    }
   ],
   "source": [
    "dias = ['Domingo', 'Lunes', 'Martes', 'Miercoles', 'Jueves', 'Viernes', 'Sabado']\n",
    " \n",
    "for dia in dias:\n",
    "    if dia == \"Lunes\":\n",
    "        continue\n",
    "    elif dia == 'Viernes':\n",
    "        break\n",
    "    print(dia)"
   ]
  },
  {
   "cell_type": "markdown",
   "id": "bb6fe70a-8af4-445d-ae53-e4cf4c651360",
   "metadata": {},
   "source": [
    "COLECCIONES DE DATOS\n",
    "=====================\n",
    "->Mas sobre Listas\n",
    "->Pila con lista\n",
    "->Cola en Python\n",
    "->Tupla\n",
    "->Diccionario\n",
    "->Conjuntos\n",
    "->Instruccion DEL"
   ]
  },
  {
   "cell_type": "code",
   "execution_count": 141,
   "id": "0ff0c517-23b4-4040-94fd-eefcbc31955a",
   "metadata": {},
   "outputs": [
    {
     "name": "stdout",
     "output_type": "stream",
     "text": [
      "['Alex', 25, 'Peru']\n",
      "['Alex', 25, 'Peru', 'Roel']\n",
      "['Alex', 25, 'Peru', 'Roel', 'Alex', 25, 'Peru', 'Roel']\n",
      "[100, 'Alex', 25, 'Peru', 'Roel', 'Alex', 25, 'Peru', 'Roel']\n",
      "['Jorge', 25, 'Peru']\n",
      "['Jorge', 25]\n",
      "[]\n",
      "1\n",
      "3\n",
      "2\n",
      "['durazno', 'manzana', 'naranja', 'pera', 'uva']\n",
      "[9, 8, 7, 6, 5, 4, 3, 2, 1, 0]\n",
      "[0, 1, 2, 3, 4, 5, 6, 7, 8, 9]\n"
     ]
    }
   ],
   "source": [
    "datos = ['Alex', 25, 'Peru']\n",
    "print(datos)\n",
    "datos.append('Roel')\n",
    "print(datos)\n",
    "\n",
    "#extend-> extiende una lista con otra\n",
    "datos.extend(datos)\n",
    "print(datos)\n",
    "\n",
    "#insert funciona igual que el append pero este inserta un elemento en una posicion en especifico\n",
    "datos.insert(0, 100)\n",
    "print(datos)\n",
    "\n",
    "dates = ['Alex', 'Jorge', 25, 'Peru']\n",
    "\n",
    "#remove(x) elimina un elemento \n",
    "dates.remove('Alex')\n",
    "print(dates)\n",
    "\n",
    "#pop([i]) elimina el ultimo elemento\n",
    "dates.pop()\n",
    "print(dates)\n",
    "\n",
    "#clear() elimina todo los elementos de la lista\n",
    "datos.clear()\n",
    "print(datos)\n",
    "\n",
    "#index(x[,start[,end]]) devuelve el indice del elemento\n",
    "print(dates.index(25))\n",
    "\n",
    "#count(x) cuantos elementos iguales hay en una lista\n",
    "datos = [100, 200, 200, 100 ,50, 9 ,10 ,9, 100]\n",
    "print(datos.count(100))\n",
    "print(datos.count(200))\n",
    "\n",
    "#sort() ordena los elementos\n",
    "frutas = ['naranja', 'pera', 'manzana', 'uva', 'durazno']\n",
    "frutas.sort()\n",
    "print(frutas)\n",
    "\n",
    "#reverse() invierte los datos\n",
    "datos = [0, 1, 2, 3, 4, 5, 6, 7, 8, 9]\n",
    "datos.reverse()\n",
    "print(datos)\n",
    "\n",
    "#copy() copia una lista\n",
    "listas = []\n",
    "datos.reverse()\n",
    "datos.copy()\n",
    "print(datos)\n",
    "\n",
    "\n"
   ]
  },
  {
   "cell_type": "code",
   "execution_count": 143,
   "id": "4323027f-84d0-45e0-b9cb-6ad733daab11",
   "metadata": {},
   "outputs": [
    {
     "name": "stdout",
     "output_type": "stream",
     "text": [
      "[1, 2, 3]\n",
      "[1, 2, 3, 4, 5]\n",
      "[1, 2, 3, 4]\n",
      "[1, 2, 3]\n"
     ]
    }
   ],
   "source": [
    "#usando listas como pilas\n",
    "#pila el ultimo en entrar es el primero en salir\n",
    "pila = [1,2,3]\n",
    "print(pila)\n",
    "pila.append(4)\n",
    "pila.append(5)\n",
    "print(pila)\n",
    "\n",
    "#el ultimo en entar es el primero en salir\n",
    "pila.pop()\n",
    "print(pila)\n",
    "pila.pop()\n",
    "print(pila)\n"
   ]
  },
  {
   "cell_type": "code",
   "execution_count": 147,
   "id": "5d77f8ed-b70f-4777-94ea-48cd25fbc7a7",
   "metadata": {},
   "outputs": [
    {
     "name": "stdout",
     "output_type": "stream",
     "text": [
      "deque(['Alex', 'Simon', 'Marta', 'Maria', 'Juana'])\n",
      "deque(['Alex', 'Simon', 'Marta', 'Maria', 'Juana', 'Mariana'])\n",
      "deque(['Simon', 'Marta', 'Maria', 'Juana', 'Mariana'])\n"
     ]
    }
   ],
   "source": [
    "#como hacer una cola\n",
    "#la cola el primero en entrar es el primero en salir\n",
    "from collections import deque\n",
    "cola = deque(['Alex', 'Simon', 'Marta', 'Maria', 'Juana'])\n",
    "print(cola)\n",
    "\n",
    "cola.append('Mariana')\n",
    "print(cola)\n",
    "\n",
    "#primero en entrar es el primero en irse\n",
    "cola.popleft() #elimina el elemento de la izquierda\n",
    "print(cola)"
   ]
  },
  {
   "cell_type": "code",
   "execution_count": 154,
   "id": "9fd961d0-8a10-49d0-859c-6ec4e07ec4d2",
   "metadata": {},
   "outputs": [
    {
     "name": "stdout",
     "output_type": "stream",
     "text": [
      "('Alex', 25, 1.75)\n",
      "Alex\n",
      "1.75\n",
      "('Alex', 25, 1.75)\n",
      "('Alex', 25)\n",
      "3\n",
      "1\n"
     ]
    }
   ],
   "source": [
    "\"\"\"\n",
    "tupla son casi lo mismo que las listas, almacena cantidad de elementos\n",
    "y pueden ser de diferentes tipos.\n",
    "hay una diferencia entre las listas y las tuplas:\n",
    "las tuplas son inmutables o sea que queremos almacenar datos pero que\n",
    "no se modifiquen\n",
    "\"\"\"\n",
    "tupla = ('Alex', 25, 1.75)\n",
    "print(tupla)\n",
    "print(tupla[0])\n",
    "print(tupla[2])\n",
    "print(tupla[:])\n",
    "print(tupla[:2])\n",
    "print(len(tupla))\n",
    "print(tupla.index(25))"
   ]
  },
  {
   "cell_type": "code",
   "execution_count": 173,
   "id": "714ac012-6bca-4f4f-8876-cfe7be12200d",
   "metadata": {},
   "outputs": [
    {
     "name": "stdout",
     "output_type": "stream",
     "text": [
      "{'uno': 1, 'dos': 2, 'tres': 3, 'cuatro': 4}\n",
      "1\n",
      "3\n",
      "{'uno': 1, 'dos': 2, 'tres': 3, 'cuatro': 4, 'cinco': 5}\n",
      "4\n",
      "no se encontro\n",
      "dict_keys(['uno', 'dos', 'tres', 'cuatro', 'cinco'])\n",
      "dict_values([1, 2, 3, 4, 5])\n",
      "dict_items([('uno', 1), ('dos', 2), ('tres', 3), ('cuatro', 4), ('cinco', 5)])\n",
      "{'uno': 1, 'dos': 2, 'tres': 3, 'cuatro': 4}\n",
      "{'uno': 1, 'dos': 2, 'tres': 3, 'cuatro': 4}\n",
      "uno\n",
      "dos\n",
      "tres\n",
      "cuatro\n",
      "1\n",
      "2\n",
      "3\n",
      "4\n",
      "uno 1\n",
      "dos 2\n",
      "tres 3\n",
      "cuatro 4\n"
     ]
    }
   ],
   "source": [
    "\"\"\"\n",
    "DICCIONARIO\n",
    "============\n",
    "estos almacenan con clave y valor\n",
    "\"\"\"\n",
    "numeros ={\n",
    "    'uno':1,\n",
    "    'dos':2,\n",
    "    'tres':3,\n",
    "    'cuatro':4\n",
    "}\n",
    "print(numeros)\n",
    "print(numeros['uno'])\n",
    "print(numeros['tres'])\n",
    "\n",
    "#agregando un elemento\n",
    "numeros['cinco'] = 5\n",
    "print(numeros)\n",
    "\n",
    "#buscando el el valor de la llave cuatro por clave pero no por valor\n",
    "print(numeros.get('cuatro', 'no se encontro'))\n",
    "#buscando el el valor de la llave siete si existe si no existe muestra el mensaje de no se encontro\n",
    "print(numeros.get('siete', 'no se encontro'))\n",
    "\n",
    "#imprimiendo las claves\n",
    "print(numeros.keys())\n",
    "#imprimiendo llos valores\n",
    "print(numeros.values())\n",
    "#imprimiendo una lista con su clave y valor\n",
    "print(numeros.items())\n",
    "\n",
    "#para elimar un elemento es con pop()\n",
    "numeros.pop('cinco', 'No se encontro')\n",
    "print(numeros)\n",
    "numeros.pop('seis', 'No se encontro')\n",
    "print(numeros)\n",
    "\n",
    "#eliminar todos los elementos de un diccionario\n",
    "#numeros.clear()\n",
    "#print(numeros)\n",
    "\n",
    "#iterando\n",
    "for n in numeros:\n",
    "    print(n)\n",
    "    \n",
    "for n in numeros.values():\n",
    "    print(n)\n",
    "    \n",
    "for clave, valor in numeros.items():\n",
    "    print(clave, valor)\n"
   ]
  },
  {
   "cell_type": "code",
   "execution_count": 188,
   "id": "bfc739b3-98e9-4980-9a1b-e29995a3431e",
   "metadata": {},
   "outputs": [
    {
     "name": "stdout",
     "output_type": "stream",
     "text": [
      "set()\n",
      "{'b', 'a', 'c'}\n",
      "{'b', 'a', 'c'}\n",
      "{'a', 'c', 'b', 'd', 'r'}\n",
      "{'a', 'c', 'm', 'z', 'l'}\n",
      "{'r', 'b', 'd'}\n",
      "{'m', 'z', 'l'}\n",
      "{'a', 'c', 'm', 'z', 'b', 'd', 'l', 'r'}\n",
      "{'a', 'c'}\n",
      "{'b', 'r', 'd', 'm', 'z', 'l'}\n",
      "{'b', 'a', 'c'}\n",
      "{'b', 'a', 'c', 'd'}\n",
      "{'a', 'c', 'd'}\n",
      "set()\n"
     ]
    }
   ],
   "source": [
    "\"\"\"conjuntos\n",
    "son otro tipo de datos para trabajar con otro conjunto de datos\n",
    "esta coleccion de datos son desordenados\n",
    "la dif de conjunto, diccionario y lista es que los conjuntos\n",
    "no puede almacenar un valor que se repita\"\"\"\n",
    "#conjunto vacio\n",
    "a = set()\n",
    "print(a)\n",
    "a = {'a', 'b', 'c'}\n",
    "print(a)\n",
    "x = {'a', 'b', 'c', 'a'}\n",
    "print(x)\n",
    "\n",
    "#elimina los elementos repetidos\n",
    "a = set('abracadabra')\n",
    "print(a)\n",
    "\n",
    "b = set('alacazam')\n",
    "print(b)\n",
    "\n",
    "#operaciones en conjuntos\n",
    "#el signo '-'\n",
    "print(a - b)\n",
    "print(b - a)\n",
    "\n",
    "#el operador OR '|'\n",
    "print(a | b)\n",
    "\n",
    "#el operador AND '&'\n",
    "print(a & b)\n",
    "\n",
    "#el operador '^' lestras en a o b pero no en ambas\n",
    "print(a ^ b)\n",
    "\n",
    "#metodos como en las listas\n",
    "#agregando\n",
    "a = {'a', 'b', 'c'}\n",
    "print(a)\n",
    "a.add('d')\n",
    "print(a)\n",
    "#no agregara un elemento que ya existe\n",
    "#a.add('a')\n",
    "\n",
    "#eliminando un elemento\n",
    "a.discard('b')\n",
    "print(a)\n",
    "\n",
    "#limpiar clear()\n",
    "a.clear()\n",
    "print(a)"
   ]
  },
  {
   "cell_type": "code",
   "execution_count": 192,
   "id": "673c0ff4-ba56-4b12-98cf-dea0f0acf4bd",
   "metadata": {},
   "outputs": [
    {
     "name": "stdout",
     "output_type": "stream",
     "text": [
      "['a', 'b', 'c', 'd']\n",
      "['b', 'c', 'd']\n",
      "['d']\n",
      "[]\n",
      "{'uno': 1, 'tres': 3, 'cuatro': 4}\n"
     ]
    }
   ],
   "source": [
    "\"\"\"\n",
    "DEL\n",
    "========\n",
    "es para eliminar  de una lista, diccionarios, ya sea eliminar o basear\n",
    "\"\"\"\n",
    "a = ['a', 'b', 'c', 'd']\n",
    "print(a)\n",
    "\n",
    "#elimina el elemento cero\n",
    "del a[0]\n",
    "print(a)\n",
    "\n",
    "a = ['a', 'b', 'c', 'd']\n",
    "del a[:3]\n",
    "print(a)\n",
    "\n",
    "a = ['a', 'b', 'c', 'd']\n",
    "del a[:]\n",
    "print(a)\n",
    "\n",
    "#borra por completo la lista\n",
    "#a = ['a', 'b', 'c', 'd']\n",
    "#del a\n",
    "#print(a)\n",
    "\n",
    "#trabajando con los diccionarios\n",
    "d ={\n",
    "    'uno':1,\n",
    "    'dos':2,\n",
    "    'tres':3,\n",
    "    'cuatro':4\n",
    "}\n",
    "\n",
    "del d['dos']\n",
    "print(d)\n",
    "#del d\n",
    "#print(b)\n",
    "\n",
    "\n"
   ]
  },
  {
   "cell_type": "markdown",
   "id": "4dcaeec1-2bd4-4617-8991-a774477db4bf",
   "metadata": {},
   "source": [
    "Practica 01: Descuentos de un restaurante\n",
    "Enunciado: un restaurante ofrece un descuento del 10% para consumo de hasta s/. 100.00 y un descuento del 20 % para consumos mayores, para ambos casos se aplica un impuesto del 19%. Determinar el monto del descuento, el impuesto y el importe a pagar.\n",
    "\n",
    "Análisis: para la solución de este problema, se requiere que el usuario ingrese el consumo y el sistema verifica y calcula el monto del descuento, el impuesto y el importe a pagar.\n",
    "\n",
    "<<monto del descuento\n",
    "\n",
    "<<impuesto\n",
    "\n",
    "<<importe a pagar"
   ]
  },
  {
   "cell_type": "code",
   "execution_count": 196,
   "id": "f3de5e9c-d4b6-4ba4-89a5-687e80e1c2b4",
   "metadata": {},
   "outputs": [
    {
     "name": "stdin",
     "output_type": "stream",
     "text": [
      "Ingrese el consumo total:  10\n"
     ]
    },
    {
     "name": "stdout",
     "output_type": "stream",
     "text": [
      "==============================\n",
      "----- FACTURA DE CONSUMO -----\n",
      "Descuento que se aplica:  10%\n",
      "==============================\n",
      "consumo:  10.0\n",
      "Descuento:  1.0\n",
      "Monto con descuento:  9.0\n",
      "IGV:  1.71\n",
      "Total a pagar:  10.71\n",
      "==============================\n"
     ]
    }
   ],
   "source": [
    "#entrada\n",
    "consumo = float(input('Ingrese el consumo total: '))\n",
    "\n",
    "#proceso\n",
    "if consumo <= 100 :\n",
    "    #descuento del 10%\n",
    "    dato_consumo = '10%' #guardando el datp del descuento\n",
    "    descuento = consumo * 0.10\n",
    "elif consumo >100 :\n",
    "    #descuento del 20%\n",
    "    dato_consumo = '20%' #guardando el datp del descuento\n",
    "    descuento = consumo * 0.20\n",
    "\n",
    "monto_descuento = consumo - descuento\n",
    "igv = monto_descuento*0.19\n",
    "total_pagar = monto_descuento + igv\n",
    "\n",
    "#salida de datos\n",
    "print('='*30)\n",
    "print('----- FACTURA DE CONSUMO -----')\n",
    "print('Descuento que se aplica: ', dato_consumo)\n",
    "print('='*30)\n",
    "print('consumo: ', consumo)\n",
    "print('Descuento: ', descuento)\n",
    "print('Monto con descuento: ', monto_descuento)\n",
    "print('IGV: ', igv)\n",
    "print('Total a pagar: ', total_pagar)\n",
    "print('='*30)"
   ]
  },
  {
   "cell_type": "markdown",
   "id": "55b8eeb0-a255-44a3-aeb6-f9ee8a2aba33",
   "metadata": {},
   "source": [
    "Practica 02: Descuentos de un restaurante\n",
    "Parte 02\n",
    "Enunciado: debido a los excelentes resultados, el restaurante decide ampliar sus ofertas de acuerdo a la siguiente escala de consumo, ver la tabla. Determinar el monto del descuento, el importe del impuesto y el importe a pagar.\n",
    "\n",
    "Consumo (S/.)       Descuento (%)\n",
    "\n",
    "Hasta 100                 10\n",
    "\n",
    "Mayor a 100             20\n",
    "\n",
    "Mayor a 200             30\n",
    "\n",
    "Análisis: para la solución de este problema, se requiere que el usuario ingrese el consumo y el sistema verifica y calcula el monto del descuento, el impuesto y el importe a pagar."
   ]
  },
  {
   "cell_type": "code",
   "execution_count": 199,
   "id": "e4d2d07e-b488-4ee9-abb9-08ecc5d4ec87",
   "metadata": {},
   "outputs": [
    {
     "name": "stdin",
     "output_type": "stream",
     "text": [
      "Ingrese el consumo total:  -10\n"
     ]
    },
    {
     "name": "stdout",
     "output_type": "stream",
     "text": [
      "Error al ingresar el consumo\n"
     ]
    }
   ],
   "source": [
    "#entrada\n",
    "consumo = float(input('Ingrese el consumo total: '))\n",
    "\n",
    "#proceso\n",
    "if consumo >= 0:\n",
    "    if consumo <= 100 :\n",
    "        #descuento del 10%\n",
    "        dato_consumo = '10%' #guardando el dato del descuento\n",
    "        descuento = consumo * 0.10\n",
    "    elif consumo >100 and consumo <=200:\n",
    "        #descuento del 20%\n",
    "        dato_consumo = '20%' #guardando el datp del descuento\n",
    "        descuento = consumo * 0.20\n",
    "    elif consumo >200 :\n",
    "        #descuento del 20%\n",
    "        dato_consumo = '30%' #guardando el datp del descuento\n",
    "        descuento = consumo * 0.30\n",
    "\n",
    "    monto_descuento = consumo - descuento\n",
    "    igv = monto_descuento*0.19\n",
    "    total_pagar = monto_descuento + igv\n",
    "\n",
    "    #salida de datos\n",
    "    print('='*30)\n",
    "    print('----- FACTURA DE CONSUMO -----')\n",
    "    print('Descuento que se aplica: ', dato_consumo)\n",
    "    print('='*30)\n",
    "    print('consumo: ', consumo)\n",
    "    print('Descuento: ', descuento)\n",
    "    print('Monto con descuento: ', monto_descuento)\n",
    "    print('IGV: ', igv)\n",
    "    print('Total a pagar: ', total_pagar)\n",
    "    print('='*30)\n",
    "else :\n",
    "    print('Error al ingresar el consumo')"
   ]
  },
  {
   "cell_type": "markdown",
   "id": "8e553830-c068-4dbc-9736-3aedf377c854",
   "metadata": {},
   "source": [
    "Practica 03: Guardar resultados de pares e impares\n",
    "Crea 2 listas y una tupla que tendrá números de 1 a 9. La primera lista se llamará pares y el segundo impar, ambos estarán vacíos. Después multiplica cada uno de los números de la tupla por un número aleatorio entre 1 y 100, si el resultado es par guarda ese número en la lista de pares y si es impar en la lista  de impares. Muestra por consola: -la multiplicación que se produce junto con su resultado con el formato 2 x 3 = 6 y la lista de pares e impares"
   ]
  },
  {
   "cell_type": "code",
   "execution_count": 203,
   "id": "a40167a5-9267-4add-9ee7-7c1ce0bf439f",
   "metadata": {},
   "outputs": [
    {
     "name": "stdout",
     "output_type": "stream",
     "text": [
      "1 x 96 = 96\n",
      "2 x 40 = 80\n",
      "3 x 51 = 153\n",
      "4 x 9 = 36\n",
      "5 x 34 = 170\n",
      "6 x 28 = 168\n",
      "7 x 39 = 273\n",
      "8 x 25 = 200\n",
      "9 x 74 = 666\n",
      "LISTA DE PARES:  [96, 80, 36, 170, 168, 200, 666]\n",
      "LISTA DE IMPARES:  [153, 273]\n"
     ]
    }
   ],
   "source": [
    "import random\n",
    "pares = []\n",
    "impares = []\n",
    "numeros = (1,2,3,4,5,6,7,8,9)\n",
    "\n",
    "for n in numeros:\n",
    "    #llamndo e numero random\n",
    "    numero_random = random.randint(1, 100)\n",
    "    resultado = numero_random * n\n",
    "    if resultado%2 == 0:\n",
    "        print(f'{n} x {numero_random} = {resultado}')\n",
    "        pares.append(resultado)\n",
    "    else :\n",
    "        print(f'{n} x {numero_random} = {resultado}')\n",
    "        impares.append(resultado)\n",
    "print('LISTA DE PARES: ', pares)\n",
    "print('LISTA DE IMPARES: ', impares)"
   ]
  },
  {
   "cell_type": "markdown",
   "id": "215a788a-ffbb-4fe4-a9da-39b8697a2922",
   "metadata": {},
   "source": [
    "Ingrese 6 números en una lista y obtenga el número mayor y menor ingresado."
   ]
  },
  {
   "cell_type": "code",
   "execution_count": 210,
   "id": "a4ed34ee-e7d1-498f-8240-90b6e6685f00",
   "metadata": {},
   "outputs": [
    {
     "name": "stdin",
     "output_type": "stream",
     "text": [
      "Ingrese el primer numero:  4\n",
      "Ingrese el segundo numero:  7\n",
      "Ingrese el tercero numero:  6\n",
      "Ingrese el cuarto numero:  9\n",
      "Ingrese el quinto numero:  2\n",
      "Ingrese el sexto numero:  1\n"
     ]
    },
    {
     "name": "stdout",
     "output_type": "stream",
     "text": [
      "ELEMENTOS DE LA LISTA: \n",
      " [4, 7, 6, 9, 2, 1]\n",
      "El numero mayor es:  9\n",
      "El numero menor es:  1\n"
     ]
    }
   ],
   "source": [
    "n1 = int(input('Ingrese el primer numero: '))\n",
    "n2 = int(input('Ingrese el segundo numero: '))\n",
    "n3 = int(input('Ingrese el tercero numero: '))\n",
    "n4 = int(input('Ingrese el cuarto numero: '))\n",
    "n5 = int(input('Ingrese el quinto numero: '))\n",
    "n6 = int(input('Ingrese el sexto numero: '))\n",
    "\n",
    "lista = []\n",
    "lista.append(n1)\n",
    "lista.append(n2)\n",
    "lista.append(n3)\n",
    "lista.append(n4)\n",
    "lista.append(n5)\n",
    "lista.append(n6)\n",
    "print('ELEMENTOS DE LA LISTA: \\n',lista)\n",
    "lista.sort()\n",
    "mayor = lista[-1]\n",
    "menor = lista[0]\n",
    "print('El numero mayor es: ',mayor)\n",
    "print('El numero menor es: ', menor)\n",
    "\n"
   ]
  },
  {
   "cell_type": "code",
   "execution_count": null,
   "id": "e6f15176-a4c2-4c0a-8b93-6f2560fbeb7c",
   "metadata": {},
   "outputs": [],
   "source": [
    "# Ingresar Datos / Lista\n",
    "num1 = int(input('Número 1: '))\n",
    "num2 = int(input('Número 2: '))\n",
    "num3 = int(input('Número 3: '))\n",
    "num4 = int(input('Número 4: '))\n",
    "num5 = int(input('Número 5: '))\n",
    "num6 = int(input('Número 6: '))\n",
    "\n",
    "# Usando la función append()\n",
    "numeros = []\n",
    "numeros.append(num1)\n",
    "numeros.append(num2)\n",
    "numeros.append(num3)\n",
    "numeros.append(num4)\n",
    "numeros.append(num5)\n",
    "numeros.append(num6)\n",
    "\n",
    "# Solución\n",
    "minimo = maximo = numeros[0]\n",
    "\n",
    "for numeros in numeros:\n",
    "    if numeros < minimo:\n",
    "        minimo = numeros\n",
    "    elif numeros > maximo:\n",
    "        maximo = numeros \n",
    "\n",
    "# Mostrar Datos \n",
    "print(\"El mínimo es \" + str(minimo)) \n",
    "print(\"El máximo es \" + str(maximo))"
   ]
  },
  {
   "cell_type": "code",
   "execution_count": null,
   "id": "abd3698c-afc7-468a-8206-bdf4b952d642",
   "metadata": {},
   "outputs": [],
   "source": [
    "n = 0\n",
    "l = [] # Lista donde se almacenan los Numeros\n",
    "\n",
    "for b in range(1,7):\n",
    "    n = input(f\"Ingrese el Numero {b}: \")\n",
    "    l.append(n)\n",
    "\n",
    "l.sort()\n",
    "print(\"El Numero Mayor es = \", l[5], \"y el Numero Menor es: \",l[0])"
   ]
  },
  {
   "cell_type": "raw",
   "id": "34c05348-e577-43c5-b0f0-c40dff65ed09",
   "metadata": {},
   "source": [
    "FUNCIONES\n",
    "tiene un bloque de codigo donde se puede usar en cualquier parte del codigo donde podemos usaro\n",
    "Tipos de funciones:\n",
    "<< Definir una funcion\n",
    "<< Funcion con retorno\n",
    "<< Parametros y argumentos\n",
    "<< Argumentos indefinidos\n",
    "<< Funciones recursivas\n",
    "<< Lambdas\n",
    "<< Funciones integradas\n",
    "<< Metodos de cadena\n"
   ]
  },
  {
   "cell_type": "raw",
   "id": "8470286e-52db-4a6b-9179-5df992b5bab6",
   "metadata": {},
   "source": [
    "Aplicación 01: Función que saluda\n",
    "Crear una función que cuando llames la función realice un saludo, luego también que te salude por tu nombre. Y también crea una variable global para poder utilizar desde fuera de la función."
   ]
  },
  {
   "cell_type": "code",
   "execution_count": 3,
   "id": "38059973-8a6b-4302-8468-ad09c43eae86",
   "metadata": {},
   "outputs": [
    {
     "name": "stdout",
     "output_type": "stream",
     "text": [
      "Hola desde la funcion saludar\n",
      "HOLA JORGE RAMIREZ\n",
      "Hola desde fuera de la funcion Alex Roel\n"
     ]
    }
   ],
   "source": [
    "nombre = 'JORGE RAMIREZ'\n",
    "def saludar():\n",
    "    #haciendo name una varoable global\n",
    "    global name\n",
    "    name = 'Alex Roel'\n",
    "    print('Hola desde la funcion saludar')\n",
    "    print('HOLA', nombre)\n",
    "\n",
    "saludar()\n",
    "#lanza un error si no esta definiendo name entonces se debe de hacer\n",
    "#la variable name global\n",
    "print('Hola desde fuera de la funcion', name) "
   ]
  },
  {
   "cell_type": "raw",
   "id": "d32341c4-1deb-483f-b513-6923a63f869f",
   "metadata": {},
   "source": [
    "Aplicación 02: Función que saluda\n",
    "Crear una función que cuando llames la función realice un saludo, luego también que te salude por tu nombre.\n",
    "\n",
    "Y también crea una variable global para poder utilizar desde fuera de la función.\n",
    "\n",
    "Modifica la función, para que esta función ya no realice el saludo si no que retorne un saludo y también datos personales.\n",
    "\n",
    "Esta misma función ahora que pueda recibir datos, como nombre y que retorne un saludo con ese dato.\n",
    "\n",
    "Crear mas funciones como una función sumar que reciba dos nemeos enteros y que retorne el resultado.\n",
    "\n",
    "Crear también otra función restar que también pueda recibir dos números entero y realice la resta y te retorno el resultado."
   ]
  },
  {
   "cell_type": "code",
   "execution_count": 6,
   "id": "6ae12f92-98b3-4b7b-8b50-30fc0205b66c",
   "metadata": {},
   "outputs": [
    {
     "name": "stdout",
     "output_type": "stream",
     "text": [
      "('Hola desde la funcion saludar', 'Alex Roel', 25)\n",
      "Hola desde la funcion saludar\n",
      "Alex Roel 25\n"
     ]
    }
   ],
   "source": [
    "def saludar():\n",
    "    #haciendo name una varoable global\n",
    "    global name\n",
    "    name = 'Alex Roel'\n",
    "    age = 25\n",
    "    return 'Hola desde la funcion saludar', name, age\n",
    "\n",
    "valor = saludar()\n",
    "saludo, name, age = saludar()\n",
    "print(valor)\n",
    "print(saludo)\n",
    "print(name,age )\n",
    "\n",
    "\n",
    "#lanza un error si no esta definiendo name entonces se debe de hacer\n",
    "#la variable name global\n",
    "#print('Hola desde fuera de la funcion', name) "
   ]
  },
  {
   "cell_type": "code",
   "execution_count": 17,
   "id": "4d264861-bce4-490d-91ad-90d71435cec7",
   "metadata": {},
   "outputs": [
    {
     "name": "stdout",
     "output_type": "stream",
     "text": [
      "Hola, AARON desde la funcion saludar\n",
      "La suma es: 13\n",
      "Error: debes enviar dos numeros a la funcion\n",
      "La resta es: None\n",
      "La resta es: 22\n"
     ]
    }
   ],
   "source": [
    "\"\"\" PARAMETROS Y ARGUMENTOS\n",
    "--PARAMETROS:\n",
    "son aquellos cuando enviamos valores a a funcion\n",
    "cuando escribimos en los parentesis dentro de la funcion\n",
    "a esto se le conoce como parametros\n",
    "--ARGYMENTOS:\n",
    "es cuando lamamos la funcion y debemos de colocarle el valor antes\n",
    "de imprimirla en pantalla\n",
    "\"\"\"\n",
    "def saludar(name):\n",
    "    age = 25\n",
    "    return f'Hola, {name} desde la funcion saludar'\n",
    "\n",
    "#def restar(a, b):\n",
    "#    return a - b\n",
    "\n",
    "def restar(a = None, b = None):\n",
    "    if a == None or b == None :\n",
    "        print('Error: debes enviar dos numeros a la funcion')\n",
    "        return\n",
    "    return a - b\n",
    "\n",
    "def sumar(a, b):\n",
    "    return a + b\n",
    "\n",
    "saludo = saludar('AARON')\n",
    "print(saludo)\n",
    "\n",
    "suma = sumar(5, 8)\n",
    "print('La suma es:', suma)\n",
    "\n",
    "rest = restar()#argumentos por nombre\n",
    "print('La resta es:', rest)\n",
    "\n",
    "resta = restar(b = 22, a = 44)#argumentos por nombre\n",
    "print('La resta es:', resta)\n"
   ]
  },
  {
   "cell_type": "raw",
   "id": "60964eaa-c284-41a7-965c-6f2f86ad413a",
   "metadata": {},
   "source": [
    "Aplicación 03: Suma de N números\n",
    "Crear una función que realice la suma de n números, para eso tienes que crear una función que puede recibir n parámetros.\n",
    "\n",
    "A esta misma función agrega par que pueda recibir N datos por nombre y retorne la lista de datos."
   ]
  },
  {
   "cell_type": "code",
   "execution_count": 21,
   "id": "20582ee2-f763-496b-abdd-5855136818e6",
   "metadata": {},
   "outputs": [
    {
     "name": "stdout",
     "output_type": "stream",
     "text": [
      "La suma total es: 10\n",
      "{'nombre': 'alex', 'edad': 25}\n"
     ]
    }
   ],
   "source": [
    "#Argumentos indeterminados\n",
    "# el asterisco en los parentesis es para indicar argumentos indeterminados\n",
    "# por posicion\n",
    "#argumentos indeterminados pero por nombre se usa **\n",
    "def sumar(*args, **kwargs):\n",
    "    suma = 0\n",
    "    for n in args:\n",
    "        suma += n\n",
    "    return suma, kwargs\n",
    "#devuelve una tupla de los elementos arrglados\n",
    "suma_total, datos = sumar(1, 2, 3, 4, nombre = 'alex', edad = 25)\n",
    "print('La suma total es:',suma_total)\n",
    "print(datos)"
   ]
  },
  {
   "cell_type": "markdown",
   "id": "11259abd-e7ec-4864-9447-f71e883b5cf4",
   "metadata": {},
   "source": [
    "Aplicación 04: Factorial de un número\n",
    "Crear una función que se recursiva para sacar la factorial de un número.\n",
    "\n",
    "Para solucionar este problema el usuario tiene que ingresar un número entero y enviar ese número a la función y la función realice el calculo respectivo y retorne la factorial de N número.\n",
    "\n",
    "3! = 1 x 2 x 3 = 6\n",
    "\n",
    "5! = 1 x 2 x 3 x 4 x 5 = 120"
   ]
  },
  {
   "cell_type": "code",
   "execution_count": 4,
   "id": "34080132-ce52-4443-83e0-e867423c1039",
   "metadata": {},
   "outputs": [
    {
     "name": "stdin",
     "output_type": "stream",
     "text": [
      "Ingrese un numero:  5\n"
     ]
    },
    {
     "name": "stdout",
     "output_type": "stream",
     "text": [
      "El factorial de 5 es: 120\n"
     ]
    }
   ],
   "source": [
    "#funciones recursivas son las que se ejecutan por si mismas\n",
    "\n",
    "def factorial(n):\n",
    "    #print('valor inicial =>', n)\n",
    "    if n > 1:\n",
    "        n = n * factorial(n - 1)#llama a la misma funcion factorial\n",
    "    #print('valor final =>', n)\n",
    "    return n\n",
    "\n",
    "n = int(input('Ingrese un numero: '))\n",
    "f = factorial(n)\n",
    "print(f'El factorial de {n} es: {f}')"
   ]
  },
  {
   "cell_type": "raw",
   "id": "98bf0abe-0924-481d-8a41-508175a098ff",
   "metadata": {},
   "source": [
    "Aplicación 05: Funciones anónimas o LAMBDA\n",
    "Para funciones que son muy simples podemos usar las funciones lambda, son funciones sin nombre que podemos manejar con variable.\n",
    "\n",
    "Crear una función lambda que realice la suma de dos números\n",
    "\n",
    "Crea una función lambda que duplique un numero\n",
    "\n",
    "Crear funciones landa que detecte si un número es par y otro para detectar si es impar.\n",
    "\n",
    "Crea una función lambda que invierta una cadena de caracteres."
   ]
  },
  {
   "cell_type": "code",
   "execution_count": 8,
   "id": "e4a85d03-afa8-41db-8ebe-e55634976d32",
   "metadata": {},
   "outputs": [
    {
     "name": "stdout",
     "output_type": "stream",
     "text": [
      "30\n",
      "20\n",
      "True\n",
      "True\n",
      "aloh\n"
     ]
    }
   ],
   "source": [
    "#funcion anonima\n",
    "#def sumar(a,b):\n",
    "#    return a + b\n",
    "\n",
    "#la funcion suma que esta en la parte de arriba hace lo mismo que la funcion lambda\n",
    "#xreando la funcion lambda o anonima\n",
    "sumar = lambda a,b:a+b\n",
    "duplicar = lambda n: n * 2\n",
    "par = lambda n: n % 2 == 0\n",
    "impar = lambda n: n % 2 != 0\n",
    "revertir = lambda cadena: cadena[::-1]\n",
    "\n",
    "print(sumar(10, 20))\n",
    "print(duplicar(10))\n",
    "print(par(4))\n",
    "print(impar(5))\n",
    "print(revertir('hola'))\n"
   ]
  },
  {
   "cell_type": "code",
   "execution_count": 15,
   "id": "307c076a-7206-432a-8d30-99dace04618d",
   "metadata": {},
   "outputs": [
    {
     "name": "stdout",
     "output_type": "stream",
     "text": [
      "15\n",
      "45.0\n",
      "48\n",
      "6\n",
      "5\n",
      "4.99\n",
      "7\n",
      "95\n",
      "20\n",
      "0b1010\n",
      "10\n",
      "0xa\n",
      "10\n",
      "\n",
      "Welcome to Python 3.9's help utility!\n",
      "\n",
      "If this is your first time using Python, you should definitely check out\n",
      "the tutorial on the Internet at https://docs.python.org/3.9/tutorial/.\n",
      "\n",
      "Enter the name of any module, keyword, or topic to get help on writing\n",
      "Python programs and using Python modules.  To quit this help utility and\n",
      "return to the interpreter, just type \"quit\".\n",
      "\n",
      "To get a list of available modules, keywords, symbols, or topics, type\n",
      "\"modules\", \"keywords\", \"symbols\", or \"topics\".  Each module also comes\n",
      "with a one-line summary of what it does; to list the modules whose name\n",
      "or summary contain a given string such as \"spam\", type \"modules spam\".\n",
      "\n"
     ]
    },
    {
     "name": "stdin",
     "output_type": "stream",
     "text": [
      "help>  \n"
     ]
    },
    {
     "name": "stdout",
     "output_type": "stream",
     "text": [
      "\n",
      "You are now leaving help and returning to the Python interpreter.\n",
      "If you want to ask for help on a particular object directly from the\n",
      "interpreter, you can type \"help(object)\".  Executing \"help('string')\"\n",
      "has the same effect as typing a particular string at the help> prompt.\n",
      "None\n"
     ]
    }
   ],
   "source": [
    "#funciones integradas\n",
    "print(int('15'))\n",
    "print(float(45))\n",
    "print(str(48))\n",
    "print(len('Python'))\n",
    "print(round(4.8))\n",
    "print(round(4.9876,2))\n",
    "\n",
    "#evalua una cadena de caracteres y si hay una expresion que se pueda resolver aritmeticamente entre otro \n",
    "print(eval('2 + 5'))\n",
    "n = 10\n",
    "print(eval('n * 10 - 5'))\n",
    "print(abs(-20))\n",
    "#binario \n",
    "print(bin(10))\n",
    "#de binario a entero\n",
    "print(int(0b1010))\n",
    "#hexadecimal\n",
    "print(hex(10))\n",
    "#de hexadecimal a entero\n",
    "print(int(0xa))\n",
    "print(help())\n",
    "\n",
    "\n"
   ]
  },
  {
   "cell_type": "code",
   "execution_count": 26,
   "id": "4e91bca7-329f-4f66-9180-e308049eb0c3",
   "metadata": {},
   "outputs": [
    {
     "name": "stdout",
     "output_type": "stream",
     "text": [
      "HOLA MUNDO\n",
      "hola mundo\n",
      "Hola mundo\n",
      "Hola Mundo\n",
      "2\n",
      "Sython\n",
      "Python\n",
      "Hola mundo\n",
      "Hola - mundo\n",
      "['Hola', 'mundo']\n",
      "['Hola', 'mundo', 'de', 'python']\n",
      "\n"
     ]
    }
   ],
   "source": [
    "#metodo de la cadena de caracteres\n",
    "#Convertir una cadena de mayusculas a minusculas\n",
    "print('hola mundo'.upper())#cambian las letras a mayusculas\n",
    "print('HOLA MUNDO'.lower())#cambia las letras a minusculas\n",
    "print('hola mundo'.capitalize())#cambia el 1mer caracter en mayuscula\n",
    "print('hola mundo'.title())#hace la letra como titulo las 1ras letras de cada palabra las convierte en mayusculas\n",
    "print('hola mundo'.count('o'))# cunetas cuantas letras del mismo tipo hay\n",
    "#una cadena de caracteres es inmutable\n",
    "#con replace podemos reemplazar un trozo de una cadena por otro\n",
    "palabra = 'Python'\n",
    "palabra = palabra.replace('P', 'S')\n",
    "print(palabra)\n",
    "\n",
    "print('P y t h o n'.replace(' ', ''))\n",
    "print(' Hola mundo '.strip())#elimina los espacios al principio y al fin\n",
    "print('---Hola - mundo---'.strip('-'))#elimina do de la derecha y izquierda\n",
    "print('Hola mundo'.split())#se convierte en una lista\n",
    "print('Hola,mundo,de,python'.split(','))#se convierte en una lista de cada coma\n",
    "\n",
    "#METODOS PARA SABER SI UNA CADENA ESTA EN MAYUSCULA O MUNUSCULA\n",
    "print('Hola'.islower())#verifica si una cadena esta en minusculas y si lo esta envia true\n",
    "print('hola'.islower())\n",
    "print('HOLA'.isupper())#si una palabra o cadena esta en mayuscula\n",
    "print('Hola Mundo'.istitle())#verifica si es un titulo\n",
    "print('         '.isspace()) #para verificar si todo es espacio\n",
    "\n",
    "print()"
   ]
  },
  {
   "cell_type": "code",
   "execution_count": null,
   "id": "b1e7bceb-7c1e-4603-a9cb-7e59804efbaa",
   "metadata": {},
   "outputs": [],
   "source": []
  },
  {
   "cell_type": "code",
   "execution_count": null,
   "id": "76e81862-4f14-47ae-9776-1a22386c73f4",
   "metadata": {},
   "outputs": [],
   "source": []
  },
  {
   "cell_type": "code",
   "execution_count": null,
   "id": "d60b581f-db7f-43ef-930a-bffec0cd0785",
   "metadata": {},
   "outputs": [],
   "source": []
  },
  {
   "cell_type": "code",
   "execution_count": null,
   "id": "56cfe286-d6e8-4727-bc38-84214f6b99e7",
   "metadata": {},
   "outputs": [],
   "source": []
  },
  {
   "cell_type": "code",
   "execution_count": null,
   "id": "8ec27691-550b-44f3-a0ff-5758fc369bfa",
   "metadata": {},
   "outputs": [],
   "source": []
  },
  {
   "cell_type": "code",
   "execution_count": null,
   "id": "3e7d23e1-c1cb-4577-9cb9-486c8cea5156",
   "metadata": {},
   "outputs": [],
   "source": []
  }
 ],
 "metadata": {
  "kernelspec": {
   "display_name": "Python 3 (ipykernel)",
   "language": "python",
   "name": "python3"
  },
  "language_info": {
   "codemirror_mode": {
    "name": "ipython",
    "version": 3
   },
   "file_extension": ".py",
   "mimetype": "text/x-python",
   "name": "python",
   "nbconvert_exporter": "python",
   "pygments_lexer": "ipython3",
   "version": "3.9.7"
  }
 },
 "nbformat": 4,
 "nbformat_minor": 5
}
