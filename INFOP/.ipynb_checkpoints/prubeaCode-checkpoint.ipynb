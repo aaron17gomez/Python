{
 "cells": [
  {
   "cell_type": "code",
   "execution_count": null,
   "id": "a2606ec9-1e16-4a5b-b4d0-7474ab83af71",
   "metadata": {},
   "outputs": [],
   "source": [
    "b=1\n",
    "obtener = 0\n",
    "while b <= 10:\n",
    "    obtener = obtener + b\n",
    "    b = b + 1\n",
    "    print(obtener)"
   ]
  },
  {
   "cell_type": "code",
   "execution_count": null,
   "id": "900431a4-36f3-4c65-8d82-0df84a39a33c",
   "metadata": {},
   "outputs": [],
   "source": [
    "i = 1\n",
    "while i<=10:\n",
    "    print(i,\")\",'Hola mundo')\n",
    "    i += 1"
   ]
  },
  {
   "cell_type": "code",
   "execution_count": null,
   "id": "8e61658c-d586-47e6-9b90-be7fd215700c",
   "metadata": {},
   "outputs": [],
   "source": [
    "var1 = int(input(\"Escriba su numero: \"))\n",
    "var2 = int(input(\"Escriba otro numero: \"))\n",
    "suma = var1 + var2\n",
    "print(\"La suma de\",var1,\"+\",var2,\"=\",suma)\n",
    "\n",
    "#valor mayor de los dos numeros\n",
    "if (var1 > var2):\n",
    "    mayor = var1\n",
    "    menor =var2\n",
    "elif (var1 == var2):\n",
    "    print(\"El numero\", var1, \"es igual a\", var2)\n",
    "else:\n",
    "    mayor = var2\n",
    "    menor = var1\n",
    "    print(\"el numero\", mayor, \"es mayor que\", menor)\n",
    "    print(\"el numero\", menor, \"es menor que\", mayor)"
   ]
  },
  {
   "cell_type": "code",
   "execution_count": null,
   "id": "9b1874cc-cec6-4cf4-bdf9-f80036d3401f",
   "metadata": {},
   "outputs": [],
   "source": [
    "nombre = input(\"Ingrese su nombre: \")\n",
    "print(\"Bienvenido\", nombre)"
   ]
  },
  {
   "cell_type": "code",
   "execution_count": null,
   "id": "f7cbfe24-2c0a-4caa-a9da-3b3fbd83c9d4",
   "metadata": {},
   "outputs": [],
   "source": [
    "numero = int(input(\"Ingrese un numero: \"))\n",
    "if (numero >0 and numero <= 10):\n",
    "    print(\"El numero\", numero, \"pertenece al rango.\")\n",
    "else:\n",
    "    print(\"El numero\", numero, \"no pertenece al rango.\")\n"
   ]
  },
  {
   "cell_type": "code",
   "execution_count": null,
   "id": "760ed512-495d-4710-96cc-a1ee54bf89db",
   "metadata": {},
   "outputs": [],
   "source": [
    "i = 1\n",
    "print(\"-----------Begin----------------\")\n",
    "while (i<= 100):\n",
    "    print(i)\n",
    "    i+=1\n",
    "print(\"------------End----------------\")"
   ]
  },
  {
   "cell_type": "code",
   "execution_count": null,
   "id": "1406e4df-fbe1-4315-9942-a90b934041d0",
   "metadata": {},
   "outputs": [],
   "source": [
    "print(\"-----------Begin----------------\")\n",
    "for i in range(2, 11, 2):\n",
    "    print(i)\n",
    "print(\"------------End----------------\")"
   ]
  },
  {
   "cell_type": "code",
   "execution_count": null,
   "id": "40459352-f446-4277-967e-13303de0d019",
   "metadata": {},
   "outputs": [],
   "source": [
    "rango1 = list(range(10))\n",
    "rango2 = list(range(5,10))\n",
    "rango3 = list(range(10, 0, -1))\n",
    "union = rango1 + rango2 + rango3\n",
    "print(\"El rango 1 es:\", rango1)\n",
    "print(\"El rango 2 es:\", rango2)\n",
    "print(\"El rango 3 es:\", rango3)\n",
    "print(\"La union de los 3 rangos es:\", union)\n"
   ]
  },
  {
   "cell_type": "code",
   "execution_count": null,
   "id": "098355b9-8265-4de7-850f-3d635ac80cdb",
   "metadata": {},
   "outputs": [],
   "source": [
    "cadena = input(\"ingrese una palabra: \")\n",
    "reversa = cadena[::-1]\n",
    "if (cadena == reversa):\n",
    "    print(\"Es palindromo\", cadena, \"es igual a\", reversa)\n",
    "else:\n",
    "    print(\"No es palindromo\", cadena, \"es diferente que\", reversa)\n",
    "\n"
   ]
  },
  {
   "cell_type": "code",
   "execution_count": 7,
   "id": "89066ee6-7ce2-434f-b57b-df557768e090",
   "metadata": {
    "collapsed": true,
    "jupyter": {
     "outputs_hidden": true
    },
    "tags": []
   },
   "outputs": [
    {
     "name": "stdin",
     "output_type": "stream",
     "text": [
      "Ingrese el numero buscado:  20\n"
     ]
    },
    {
     "name": "stdout",
     "output_type": "stream",
     "text": [
      "El numero que busca es mayor\n"
     ]
    },
    {
     "name": "stdin",
     "output_type": "stream",
     "text": [
      "Ingrese el numero buscado:  50\n"
     ]
    },
    {
     "name": "stdout",
     "output_type": "stream",
     "text": [
      "El numero que busca es menor\n"
     ]
    },
    {
     "name": "stdin",
     "output_type": "stream",
     "text": [
      "Ingrese el numero buscado:  30\n"
     ]
    },
    {
     "name": "stdout",
     "output_type": "stream",
     "text": [
      "El numero que busca es mayor\n"
     ]
    },
    {
     "name": "stdin",
     "output_type": "stream",
     "text": [
      "Ingrese el numero buscado:  40\n"
     ]
    },
    {
     "name": "stdout",
     "output_type": "stream",
     "text": [
      "El numero que busca es menor\n"
     ]
    },
    {
     "name": "stdin",
     "output_type": "stream",
     "text": [
      "Ingrese el numero buscado:  35\n"
     ]
    },
    {
     "name": "stdout",
     "output_type": "stream",
     "text": [
      "El numero que busca es menor\n"
     ]
    },
    {
     "name": "stdin",
     "output_type": "stream",
     "text": [
      "Ingrese el numero buscado:  33\n"
     ]
    },
    {
     "name": "stdout",
     "output_type": "stream",
     "text": [
      "El numero que busca es menor\n"
     ]
    },
    {
     "name": "stdin",
     "output_type": "stream",
     "text": [
      "Ingrese el numero buscado:  32\n"
     ]
    },
    {
     "name": "stdout",
     "output_type": "stream",
     "text": [
      "El numero que busca es menor\n"
     ]
    },
    {
     "name": "stdin",
     "output_type": "stream",
     "text": [
      "Ingrese el numero buscado:  32\n"
     ]
    },
    {
     "name": "stdout",
     "output_type": "stream",
     "text": [
      "El numero que busca es menor\n"
     ]
    },
    {
     "name": "stdin",
     "output_type": "stream",
     "text": [
      "Ingrese el numero buscado:  31\n"
     ]
    },
    {
     "name": "stdout",
     "output_type": "stream",
     "text": [
      "El numero es correcto 31 tus intentos fueron: 8 intentos\n"
     ]
    }
   ],
   "source": [
    "## import random\n",
    "def generar_num_aleatorio (minimo, maximo):\n",
    "    return random.randint(minimo, maximo)\n",
    "numero_buscado = generar_num_aleatorio(1, 100)\n",
    "encontrado = False\n",
    "intentos = 0\n",
    "#print(numero_buscado)\n",
    "\n",
    "while not encontrado:\n",
    "    numero_usuario = int(input(\"Ingrese el numero buscado: \"))\n",
    "    if numero_usuario > numero_buscado :\n",
    "        print(\"El numero que busca es menor\")\n",
    "        intentos +=1\n",
    "    elif numero_usuario < numero_buscado :\n",
    "        print(\"El numero que busca es mayor\")\n",
    "        intentos +=1\n",
    "    else :\n",
    "        encontrado = True\n",
    "        print(\"El numero es correcto\",numero_usuario,\"tus intentos fueron:\",intentos,\"intentos\" )\n",
    "        \n",
    "\n",
    "    \n"
   ]
  },
  {
   "cell_type": "code",
   "execution_count": 13,
   "id": "0ebe263d-d797-44b9-8467-708b83a44e40",
   "metadata": {},
   "outputs": [
    {
     "name": "stdin",
     "output_type": "stream",
     "text": [
      "Ingrese su numero:  5\n",
      "Ingrese su numero:  6\n"
     ]
    },
    {
     "name": "stdout",
     "output_type": "stream",
     "text": [
      "la suma de los dos numeros es: 5 + 6 = 11\n"
     ]
    }
   ],
   "source": [
    "while True:\n",
    "    try:\n",
    "        val_num1 = int(input(\"Ingrese su numero: \"))\n",
    "        val_num2 = int(input(\"Ingrese su numero: \"))\n",
    "        break\n",
    "    except ValueError :\n",
    "        print(\"Ingrese un numero.\")\n",
    "\n",
    "suma = val_num1 + val_num2\n",
    "print(\"la suma de los dos numeros es:\", val_num1, \"+\",val_num2, \"=\", suma)"
   ]
  },
  {
   "cell_type": "code",
   "execution_count": null,
   "id": "b685c344-abae-46ae-92f2-c7bc0027f26e",
   "metadata": {},
   "outputs": [],
   "source": []
  },
  {
   "cell_type": "code",
   "execution_count": null,
   "id": "f057858a-a505-444e-a01a-1499bff4dd11",
   "metadata": {},
   "outputs": [],
   "source": []
  }
 ],
 "metadata": {
  "kernelspec": {
   "display_name": "Python 3 (ipykernel)",
   "language": "python",
   "name": "python3"
  },
  "language_info": {
   "codemirror_mode": {
    "name": "ipython",
    "version": 3
   },
   "file_extension": ".py",
   "mimetype": "text/x-python",
   "name": "python",
   "nbconvert_exporter": "python",
   "pygments_lexer": "ipython3",
   "version": "3.9.7"
  }
 },
 "nbformat": 4,
 "nbformat_minor": 5
}
